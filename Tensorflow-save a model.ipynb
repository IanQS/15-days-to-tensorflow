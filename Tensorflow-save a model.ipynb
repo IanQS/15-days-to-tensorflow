{
 "cells": [
  {
   "cell_type": "code",
   "execution_count": 2,
   "metadata": {},
   "outputs": [],
   "source": [
    "import tensorflow as tf\n",
    "import matplotlib.pyplot as plt\n",
    "import pandas as pd\n",
    "import numpy as np\n",
    "%matplotlib inline"
   ]
  },
  {
   "cell_type": "code",
   "execution_count": 3,
   "metadata": {},
   "outputs": [],
   "source": [
    "x_data= np.array([[1],[2],[3],[4],[5],[6],[7],[8],[9],[10]])\n",
    "\n",
    "y_data= np.array([[3],[5],[9],[9],[11],[13],[16],[17],[19],[21]])\n"
   ]
  },
  {
   "cell_type": "code",
   "execution_count": 4,
   "metadata": {},
   "outputs": [
    {
     "name": "stdout",
     "output_type": "stream",
     "text": [
      "0.04664923491002315 0.24812829343108356\n"
     ]
    }
   ],
   "source": [
    "m,b=np.random.rand(2)\n",
    "print(m,b)\n",
    "\n",
    "slope=tf.Variable(m,name=\"w1\")\n",
    "constant=tf.Variable(b,name=\"w2\")\n"
   ]
  },
  {
   "cell_type": "code",
   "execution_count": 5,
   "metadata": {},
   "outputs": [],
   "source": [
    "error=0\n",
    "for a,bb in zip(x_data,y_data):\n",
    "    \n",
    "    y_pred=slope*a+constant\n",
    "    error+=(bb-y_pred)**2\n",
    "\n",
    "optimizer=tf.train.GradientDescentOptimizer(learning_rate=0.001)\n",
    "result=optimizer.minimize(error)\n",
    "\n",
    "init_op=tf.global_variables_initializer()"
   ]
  },
  {
   "cell_type": "code",
   "execution_count": 6,
   "metadata": {},
   "outputs": [],
   "source": [
    "#to save a model use\n",
    "\n",
    "saver=tf.train.Saver()"
   ]
  },
  {
   "cell_type": "code",
   "execution_count": 7,
   "metadata": {},
   "outputs": [
    {
     "name": "stdout",
     "output_type": "stream",
     "text": [
      "2.0509592498367923 0.8832140480122509\n"
     ]
    }
   ],
   "source": [
    "with tf.Session() as sess:\n",
    "    sess.run(init_op)\n",
    "    for i in range(100):\n",
    "        sess.run(result)\n",
    "    \n",
    "    \n",
    "    slop,constan=sess.run([slope,constant])\n",
    "    print(slop,constan)\n",
    "    \n",
    "    saver.save(sess,'models/new_model.ckpt') #args:name of the ssession and the path to save"
   ]
  }
 ],
 "metadata": {
  "kernelspec": {
   "display_name": "Python 3",
   "language": "python",
   "name": "python3"
  },
  "language_info": {
   "codemirror_mode": {
    "name": "ipython",
    "version": 3
   },
   "file_extension": ".py",
   "mimetype": "text/x-python",
   "name": "python",
   "nbconvert_exporter": "python",
   "pygments_lexer": "ipython3",
   "version": "3.6.4"
  }
 },
 "nbformat": 4,
 "nbformat_minor": 2
}
