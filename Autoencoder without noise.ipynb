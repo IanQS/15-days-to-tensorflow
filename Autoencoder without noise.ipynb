{
 "cells": [
  {
   "cell_type": "code",
   "execution_count": 1,
   "metadata": {},
   "outputs": [],
   "source": [
    "import tensorflow as tf\n",
    "import numpy as np\n",
    "from tensorflow.examples.tutorials.mnist import input_data"
   ]
  },
  {
   "cell_type": "code",
   "execution_count": 2,
   "metadata": {},
   "outputs": [],
   "source": [
    "import matplotlib.pyplot as plt"
   ]
  },
  {
   "cell_type": "code",
   "execution_count": 5,
   "metadata": {},
   "outputs": [
    {
     "name": "stdout",
     "output_type": "stream",
     "text": [
      "Extracting /tmp/data/train-images-idx3-ubyte.gz\n",
      "Extracting /tmp/data/train-labels-idx1-ubyte.gz\n",
      "Extracting /tmp/data/t10k-images-idx3-ubyte.gz\n",
      "Extracting /tmp/data/t10k-labels-idx1-ubyte.gz\n"
     ]
    }
   ],
   "source": [
    "mnist=input_data.read_data_sets(\"/tmp/data/\",one_hot=True)"
   ]
  },
  {
   "cell_type": "code",
   "execution_count": 6,
   "metadata": {},
   "outputs": [],
   "source": [
    "input_dim=28\n",
    "input_neurons=784\n",
    "hidden_neurons=500\n",
    "\n"
   ]
  },
  {
   "cell_type": "code",
   "execution_count": 7,
   "metadata": {},
   "outputs": [],
   "source": [
    "x=tf.placeholder(float,[None,input_neurons],name=\"input_x\")"
   ]
  },
  {
   "cell_type": "code",
   "execution_count": 8,
   "metadata": {},
   "outputs": [],
   "source": [
    "weight_encode=tf.Variable(tf.random_normal([input_neurons,hidden_neurons]))\n",
    "bias_encode=tf.Variable(tf.zeros([hidden_neurons]))"
   ]
  },
  {
   "cell_type": "code",
   "execution_count": 9,
   "metadata": {},
   "outputs": [],
   "source": [
    "weight_decode=tf.transpose(weight_encode)\n",
    "bias_decode=tf.Variable(tf.zeros([input_neurons]))"
   ]
  },
  {
   "cell_type": "code",
   "execution_count": 10,
   "metadata": {},
   "outputs": [],
   "source": [
    "noised_input=x\n",
    "autoencoded_output=tf.nn.sigmoid(tf.matmul(noised_input,weight_encode)+bias_encode)\n",
    "decoded_output=tf.nn.sigmoid(tf.matmul(autoencoded_output,weight_decode))+bias_decode\n"
   ]
  },
  {
   "cell_type": "code",
   "execution_count": 11,
   "metadata": {},
   "outputs": [],
   "source": [
    "loss=tf.reduce_mean(0.5*tf.pow(x-decoded_output,2))"
   ]
  },
  {
   "cell_type": "code",
   "execution_count": 12,
   "metadata": {},
   "outputs": [],
   "source": [
    "optim=tf.train.GradientDescentOptimizer(0.05).minimize(loss)"
   ]
  },
  {
   "cell_type": "code",
   "execution_count": 13,
   "metadata": {},
   "outputs": [],
   "source": [
    "x_test,y_test=mnist.test.images,mnist.test.labels"
   ]
  },
  {
   "cell_type": "code",
   "execution_count": 14,
   "metadata": {},
   "outputs": [
    {
     "name": "stdout",
     "output_type": "stream",
     "text": [
      "0.2104225\n",
      "0.19224249\n",
      "0.17400059\n",
      "0.15861322\n",
      "0.14719589\n",
      "0.13460399\n",
      "0.12624308\n",
      "0.116539754\n",
      "0.10900058\n",
      "0.10317061\n",
      "0.097956836\n",
      "0.09295641\n",
      "0.088590525\n",
      "0.08475402\n",
      "0.08202258\n",
      "0.07841825\n",
      "0.07685149\n",
      "0.07420434\n",
      "0.07281542\n",
      "0.07060198\n",
      "0.06889471\n",
      "0.06792624\n",
      "0.06661069\n",
      "0.06483811\n",
      "0.06473945\n",
      "0.063723855\n",
      "0.062768966\n",
      "0.062018305\n",
      "0.061857313\n",
      "0.060911212\n",
      "0.059954505\n",
      "0.059811864\n",
      "0.060436692\n",
      "0.059080873\n",
      "0.058111552\n",
      "0.057992347\n",
      "0.05918207\n",
      "0.058265064\n",
      "0.057070524\n",
      "0.05796738\n",
      "Test Loss 0.056673728\n"
     ]
    }
   ],
   "source": [
    "with tf.Session() as sess:\n",
    "    sess.run(tf.global_variables_initializer())\n",
    "    for i in range(40000):\n",
    "        x_train,y_train=mnist.train.next_batch(128)\n",
    "        res,_=sess.run([loss,optim],feed_dict={x:x_train,})\n",
    "        if i%1000==0:\n",
    "            print(res)\n",
    "        \n",
    "    \n",
    "            \n",
    "    \n",
    "    k=sess.run(decoded_output,feed_dict={x:x_test,})\n",
    "    print(\"Test Loss\",sess.run(loss,feed_dict={x:x_test,}))\n",
    "        \n",
    "        \n",
    "        "
   ]
  },
  {
   "cell_type": "code",
   "execution_count": 17,
   "metadata": {},
   "outputs": [
    {
     "data": {
      "text/plain": [
       "<matplotlib.image.AxesImage at 0x311dc2e8>"
      ]
     },
     "execution_count": 17,
     "metadata": {},
     "output_type": "execute_result"
    },
    {
     "data": {
      "image/png": "[encoded data removed]",
      "text/plain": [
       "<Figure size 432x288 with 6 Axes>"
      ]
     },
     "metadata": {},
     "output_type": "display_data"
    }
   ],
   "source": [
    "#lets check another time\n",
    "f,ax=plt.subplots(3,2)\n",
    "ax[0,0].imshow(k[113].reshape(28,28))\n",
    "ax[0,1].imshow(x_test[113].reshape(28,28))\n",
    "ax[1,0].imshow(k[77].reshape(28,28))\n",
    "ax[1,1].imshow(x_test[77].reshape(28,28))\n",
    "ax[2,0].imshow(k[13].reshape(28,28))\n",
    "ax[2,1].imshow(x_test[13].reshape(28,28))\n",
    "\n"
   ]
  },
  {
   "cell_type": "code",
   "execution_count": null,
   "metadata": {},
   "outputs": [],
   "source": []
  }
 ],
 "metadata": {
  "kernelspec": {
   "display_name": "Python 3",
   "language": "python",
   "name": "python3"
  },
  "language_info": {
   "codemirror_mode": {
    "name": "ipython",
    "version": 3
   },
   "file_extension": ".py",
   "mimetype": "text/x-python",
   "name": "python",
   "nbconvert_exporter": "python",
   "pygments_lexer": "ipython3",
   "version": "3.6.0"
  }
 },
 "nbformat": 4,
 "nbformat_minor": 2
}
