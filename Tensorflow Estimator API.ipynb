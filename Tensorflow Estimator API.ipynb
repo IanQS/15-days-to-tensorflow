{
 "cells": [
  {
   "cell_type": "code",
   "execution_count": 1,
   "metadata": {},
   "outputs": [
    {
     "name": "stderr",
     "output_type": "stream",
     "text": [
      "C:\\Users\\demongking28\\Anaconda3\\lib\\site-packages\\h5py\\__init__.py:36: FutureWarning: Conversion of the second argument of issubdtype from `float` to `np.floating` is deprecated. In future, it will be treated as `np.float64 == np.dtype(float).type`.\n",
      "  from ._conv import register_converters as _register_converters\n"
     ]
    }
   ],
   "source": [
    "#TF estimators are used for basic ml problems .TF estimators begin from cell 16\n",
    "\n",
    "%matplotlib inline\n",
    "import numpy as np\n",
    "import pandas as pd\n",
    "import matplotlib.pyplot as plt\n",
    "import tensorflow as tf"
   ]
  },
  {
   "cell_type": "code",
   "execution_count": 2,
   "metadata": {},
   "outputs": [],
   "source": [
    "np.random.seed(15)\n",
    "x_train=np.linspace(0.0,20.0,10000)\n",
    "y_train=0.4*x_train+5+np.random.randn(len(x_train))\n",
    "\n"
   ]
  },
  {
   "cell_type": "code",
   "execution_count": 3,
   "metadata": {},
   "outputs": [
    {
     "data": {
      "text/html": [
       "<div>\n",
       "<style scoped>\n",
       "    .dataframe tbody tr th:only-of-type {\n",
       "        vertical-align: middle;\n",
       "    }\n",
       "\n",
       "    .dataframe tbody tr th {\n",
       "        vertical-align: top;\n",
       "    }\n",
       "\n",
       "    .dataframe thead th {\n",
       "        text-align: right;\n",
       "    }\n",
       "</style>\n",
       "<table border=\"1\" class=\"dataframe\">\n",
       "  <thead>\n",
       "    <tr style=\"text-align: right;\">\n",
       "      <th></th>\n",
       "      <th>x_train</th>\n",
       "      <th>y_train</th>\n",
       "    </tr>\n",
       "  </thead>\n",
       "  <tbody>\n",
       "    <tr>\n",
       "      <th>9995</th>\n",
       "      <td>19.991999</td>\n",
       "      <td>11.150235</td>\n",
       "    </tr>\n",
       "    <tr>\n",
       "      <th>9996</th>\n",
       "      <td>19.993999</td>\n",
       "      <td>13.345124</td>\n",
       "    </tr>\n",
       "    <tr>\n",
       "      <th>9997</th>\n",
       "      <td>19.996000</td>\n",
       "      <td>13.750383</td>\n",
       "    </tr>\n",
       "    <tr>\n",
       "      <th>9998</th>\n",
       "      <td>19.998000</td>\n",
       "      <td>12.178902</td>\n",
       "    </tr>\n",
       "    <tr>\n",
       "      <th>9999</th>\n",
       "      <td>20.000000</td>\n",
       "      <td>12.965469</td>\n",
       "    </tr>\n",
       "  </tbody>\n",
       "</table>\n",
       "</div>"
      ],
      "text/plain": [
       "        x_train    y_train\n",
       "9995  19.991999  11.150235\n",
       "9996  19.993999  13.345124\n",
       "9997  19.996000  13.750383\n",
       "9998  19.998000  12.178902\n",
       "9999  20.000000  12.965469"
      ]
     },
     "execution_count": 3,
     "metadata": {},
     "output_type": "execute_result"
    }
   ],
   "source": [
    "x_df= pd.DataFrame(data=x_train,columns=[\"x_train\"])\n",
    "y_df= pd.DataFrame(data=y_train,columns=[\"y_train\"])\n",
    "\n",
    "data=pd.concat([x_df,y_df],axis=1)\n",
    "\n",
    "data.tail(5)"
   ]
  },
  {
   "cell_type": "code",
   "execution_count": 4,
   "metadata": {},
   "outputs": [
    {
     "data": {
      "text/plain": [
       "<matplotlib.axes._subplots.AxesSubplot at 0x1c6b9460588>"
      ]
     },
     "execution_count": 4,
     "metadata": {},
     "output_type": "execute_result"
    },
    {
     "data": {
      "image/png": "[encoded data removed]",
      "text/plain": [
       "<matplotlib.figure.Figure at 0x1c6b34719b0>"
      ]
     },
     "metadata": {},
     "output_type": "display_data"
    }
   ],
   "source": [
    "data.sample(n=200).plot(kind=\"Scatter\",x=\"x_train\",y=\"y_train\")"
   ]
  },
  {
   "cell_type": "code",
   "execution_count": 5,
   "metadata": {},
   "outputs": [
    {
     "name": "stdout",
     "output_type": "stream",
     "text": [
      "0.2182674539905923 -0.4109167926873046\n"
     ]
    }
   ],
   "source": [
    "batch_size=8\n",
    "#starting with random values of m and b\n",
    "init_m,init_b=np.random.randn(2)\n",
    "\n",
    "print(init_m,init_b)"
   ]
  },
  {
   "cell_type": "code",
   "execution_count": 6,
   "metadata": {},
   "outputs": [],
   "source": [
    "\n",
    "#variables\n",
    "m=tf.Variable(0.21)\n",
    "b=tf.Variable(0.41)"
   ]
  },
  {
   "cell_type": "code",
   "execution_count": 7,
   "metadata": {},
   "outputs": [],
   "source": [
    "#placeholders\n",
    "\n",
    "x_place=tf.placeholder(tf.float32,shape=[batch_size])\n",
    "y_place=tf.placeholder(tf.float32,shape=[batch_size])"
   ]
  },
  {
   "cell_type": "code",
   "execution_count": 8,
   "metadata": {},
   "outputs": [],
   "source": [
    "y_pred=m*x_place+b"
   ]
  },
  {
   "cell_type": "code",
   "execution_count": 9,
   "metadata": {},
   "outputs": [
    {
     "name": "stdout",
     "output_type": "stream",
     "text": [
      "(8,)\n",
      "(8,)\n"
     ]
    }
   ],
   "source": [
    "print(y_pred.shape)\n",
    "print(y_place.shape)"
   ]
  },
  {
   "cell_type": "code",
   "execution_count": 10,
   "metadata": {},
   "outputs": [],
   "source": [
    "error=tf.reduce_sum(tf.square(y_place-y_pred)) #default axis =None reduces across all dimensions"
   ]
  },
  {
   "cell_type": "code",
   "execution_count": 11,
   "metadata": {},
   "outputs": [],
   "source": [
    "optim=tf.train.GradientDescentOptimizer(learning_rate=0.00001)"
   ]
  },
  {
   "cell_type": "code",
   "execution_count": 12,
   "metadata": {},
   "outputs": [],
   "source": [
    "result=optim.minimize(error)\n",
    "init_op=tf.global_variables_initializer()"
   ]
  },
  {
   "cell_type": "code",
   "execution_count": 13,
   "metadata": {},
   "outputs": [
    {
     "name": "stdout",
     "output_type": "stream",
     "text": [
      "0.4459858 4.361905\n"
     ]
    }
   ],
   "source": [
    "with tf.Session() as sess:\n",
    "    sess.run(init_op)\n",
    "    for i in range(50000):\n",
    "        \n",
    "        indexes=np.random.randint(len(x_train),size=8)\n",
    "        \n",
    "        dictor={x_place:x_train[indexes],y_place:y_train[indexes]}\n",
    "        \n",
    "        sess.run(result,feed_dict=dictor)\n",
    "        #print(sess.run(m))\n",
    "    slop,intercep=sess.run([m,b])\n",
    "\n",
    "print(slop,intercep)"
   ]
  },
  {
   "cell_type": "code",
   "execution_count": 14,
   "metadata": {},
   "outputs": [],
   "source": [
    "plotter=slop*x_train+intercep"
   ]
  },
  {
   "cell_type": "code",
   "execution_count": 15,
   "metadata": {},
   "outputs": [
    {
     "data": {
      "text/plain": [
       "[<matplotlib.lines.Line2D at 0x1c6b986bdd8>]"
      ]
     },
     "execution_count": 15,
     "metadata": {},
     "output_type": "execute_result"
    },
    {
     "data": {
      "image/png": "[encoded data removed]",
      "text/plain": [
       "<matplotlib.figure.Figure at 0x1c6b940ed68>"
      ]
     },
     "metadata": {},
     "output_type": "display_data"
    }
   ],
   "source": [
    "\n",
    "data.sample(n=300).plot(kind=\"scatter\",x=\"x_train\",y=\"y_train\")\n",
    "plt.plot(x_train,plotter,c=\"red\")\n"
   ]
  },
  {
   "cell_type": "raw",
   "metadata": {},
   "source": [
    "1.tf.estimator.LinearClassifier\n",
    "2.tf.estimator.LinearRegressor\n",
    "3.tf.estimator.DNNClassifier\n",
    "4.tf.estimator.DNNRegressor\n",
    "5.tf.estimator.DNNLinearCombinedClassifier\n",
    "6.tf.estimator.DNNLinearCombinedRegressor\n",
    "\n",
    "In estimator API we do the following:\n",
    "\n",
    "a) Define a list of feature columns\n",
    "b) Create the estimator model\n",
    "c) create a data input function\n",
    "d) call train,evaluate and predict like scikit learn\n",
    "\n"
   ]
  },
  {
   "cell_type": "code",
   "execution_count": 17,
   "metadata": {},
   "outputs": [],
   "source": [
    "#Step 1\n",
    "feature_column=[tf.feature_column.numeric_column(key='x',shape=[1])]"
   ]
  },
  {
   "cell_type": "code",
   "execution_count": 18,
   "metadata": {},
   "outputs": [
    {
     "name": "stdout",
     "output_type": "stream",
     "text": [
      "INFO:tensorflow:Using default config.\n",
      "WARNING:tensorflow:Using temporary folder as model directory: C:\\Users\\DEMONG~1\\AppData\\Local\\Temp\\tmpavqz7a3g\n",
      "INFO:tensorflow:Using config: {'_model_dir': 'C:\\\\Users\\\\DEMONG~1\\\\AppData\\\\Local\\\\Temp\\\\tmpavqz7a3g', '_tf_random_seed': None, '_save_summary_steps': 100, '_save_checkpoints_steps': None, '_save_checkpoints_secs': 600, '_session_config': None, '_keep_checkpoint_max': 5, '_keep_checkpoint_every_n_hours': 10000, '_log_step_count_steps': 100, '_train_distribute': None, '_service': None, '_cluster_spec': <tensorflow.python.training.server_lib.ClusterSpec object at 0x000001C6BA40CA90>, '_task_type': 'worker', '_task_id': 0, '_global_id_in_cluster': 0, '_master': '', '_evaluation_master': '', '_is_chief': True, '_num_ps_replicas': 0, '_num_worker_replicas': 1}\n"
     ]
    }
   ],
   "source": [
    "#step 2\n",
    "estimator=tf.estimator.LinearRegressor(feature_column)"
   ]
  },
  {
   "cell_type": "code",
   "execution_count": 19,
   "metadata": {},
   "outputs": [],
   "source": [
    "from sklearn.model_selection import train_test_split"
   ]
  },
  {
   "cell_type": "code",
   "execution_count": 20,
   "metadata": {},
   "outputs": [],
   "source": [
    "x_train_1,x_test,y_train_1,y_test=train_test_split(x_train,y_train,test_size=0.3,random_state=42)"
   ]
  },
  {
   "cell_type": "code",
   "execution_count": 24,
   "metadata": {},
   "outputs": [],
   "source": [
    "#step3\n",
    "\n",
    "inputs=tf.estimator.inputs.numpy_input_fn({'x':x_train_1},y_train_1,batch_size=8,num_epochs=None,shuffle=True)"
   ]
  },
  {
   "cell_type": "code",
   "execution_count": 25,
   "metadata": {},
   "outputs": [],
   "source": [
    "#this is for training notice num_epochs=5000 and shuffle is set to false\n",
    "inputs_train=tf.estimator.inputs.numpy_input_fn({'x':x_train_1},y_train_1,batch_size=8,num_epochs=5000,shuffle=False)"
   ]
  },
  {
   "cell_type": "code",
   "execution_count": 27,
   "metadata": {},
   "outputs": [],
   "source": [
    "#for testing\n",
    "inputs_test=tf.estimator.inputs.numpy_input_fn({'x':x_test},y_test,batch_size=8,num_epochs=5000,shuffle=False)"
   ]
  },
  {
   "cell_type": "code",
   "execution_count": 28,
   "metadata": {},
   "outputs": [
    {
     "name": "stdout",
     "output_type": "stream",
     "text": [
      "INFO:tensorflow:Calling model_fn.\n",
      "INFO:tensorflow:Done calling model_fn.\n",
      "INFO:tensorflow:Create CheckpointSaverHook.\n",
      "INFO:tensorflow:Graph was finalized.\n",
      "INFO:tensorflow:Running local_init_op.\n",
      "INFO:tensorflow:Done running local_init_op.\n",
      "INFO:tensorflow:Saving checkpoints for 1 into C:\\Users\\DEMONG~1\\AppData\\Local\\Temp\\tmpavqz7a3g\\model.ckpt.\n",
      "INFO:tensorflow:loss = 935.79034, step = 1\n",
      "INFO:tensorflow:global_step/sec: 513.589\n",
      "INFO:tensorflow:loss = 36.28276, step = 101 (0.215 sec)\n",
      "INFO:tensorflow:global_step/sec: 610.008\n",
      "INFO:tensorflow:loss = 33.081253, step = 201 (0.139 sec)\n",
      "INFO:tensorflow:global_step/sec: 817.941\n",
      "INFO:tensorflow:loss = 20.111671, step = 301 (0.117 sec)\n",
      "INFO:tensorflow:global_step/sec: 836.969\n",
      "INFO:tensorflow:loss = 8.523203, step = 401 (0.119 sec)\n",
      "INFO:tensorflow:global_step/sec: 816.685\n",
      "INFO:tensorflow:loss = 9.897858, step = 501 (0.122 sec)\n",
      "INFO:tensorflow:global_step/sec: 767.368\n",
      "INFO:tensorflow:loss = 6.7167664, step = 601 (0.133 sec)\n",
      "INFO:tensorflow:global_step/sec: 823.515\n",
      "INFO:tensorflow:loss = 13.709373, step = 701 (0.123 sec)\n",
      "INFO:tensorflow:global_step/sec: 858.73\n",
      "INFO:tensorflow:loss = 9.03038, step = 801 (0.111 sec)\n",
      "INFO:tensorflow:global_step/sec: 910.224\n",
      "INFO:tensorflow:loss = 13.157691, step = 901 (0.110 sec)\n",
      "INFO:tensorflow:global_step/sec: 844.239\n",
      "INFO:tensorflow:loss = 10.744768, step = 1001 (0.118 sec)\n",
      "INFO:tensorflow:global_step/sec: 841.478\n",
      "INFO:tensorflow:loss = 6.7377777, step = 1101 (0.121 sec)\n",
      "INFO:tensorflow:global_step/sec: 804.224\n",
      "INFO:tensorflow:loss = 8.45579, step = 1201 (0.126 sec)\n",
      "INFO:tensorflow:global_step/sec: 800.695\n",
      "INFO:tensorflow:loss = 13.427828, step = 1301 (0.124 sec)\n",
      "INFO:tensorflow:global_step/sec: 876.194\n",
      "INFO:tensorflow:loss = 3.2145762, step = 1401 (0.111 sec)\n",
      "INFO:tensorflow:global_step/sec: 845.053\n",
      "INFO:tensorflow:loss = 8.129616, step = 1501 (0.120 sec)\n",
      "INFO:tensorflow:global_step/sec: 865.446\n",
      "INFO:tensorflow:loss = 9.833025, step = 1601 (0.115 sec)\n",
      "INFO:tensorflow:global_step/sec: 794.108\n",
      "INFO:tensorflow:loss = 9.6780615, step = 1701 (0.125 sec)\n",
      "INFO:tensorflow:global_step/sec: 453.887\n",
      "INFO:tensorflow:loss = 6.651823, step = 1801 (0.224 sec)\n",
      "INFO:tensorflow:global_step/sec: 737.727\n",
      "INFO:tensorflow:loss = 6.8974185, step = 1901 (0.136 sec)\n",
      "INFO:tensorflow:global_step/sec: 741.664\n",
      "INFO:tensorflow:loss = 10.829293, step = 2001 (0.131 sec)\n",
      "INFO:tensorflow:global_step/sec: 853.076\n",
      "INFO:tensorflow:loss = 21.802752, step = 2101 (0.117 sec)\n",
      "INFO:tensorflow:global_step/sec: 849.22\n",
      "INFO:tensorflow:loss = 9.296247, step = 2201 (0.117 sec)\n",
      "INFO:tensorflow:global_step/sec: 838.881\n",
      "INFO:tensorflow:loss = 7.4245043, step = 2301 (0.120 sec)\n",
      "INFO:tensorflow:global_step/sec: 836.43\n",
      "INFO:tensorflow:loss = 11.418407, step = 2401 (0.119 sec)\n",
      "INFO:tensorflow:global_step/sec: 761.5\n",
      "INFO:tensorflow:loss = 6.5121746, step = 2501 (0.131 sec)\n",
      "INFO:tensorflow:global_step/sec: 786.407\n",
      "INFO:tensorflow:loss = 11.87722, step = 2601 (0.127 sec)\n",
      "INFO:tensorflow:global_step/sec: 764.823\n",
      "INFO:tensorflow:loss = 1.470392, step = 2701 (0.132 sec)\n",
      "INFO:tensorflow:global_step/sec: 902.088\n",
      "INFO:tensorflow:loss = 5.2717915, step = 2801 (0.110 sec)\n",
      "INFO:tensorflow:global_step/sec: 829.384\n",
      "INFO:tensorflow:loss = 1.9489381, step = 2901 (0.122 sec)\n",
      "INFO:tensorflow:global_step/sec: 781.55\n",
      "INFO:tensorflow:loss = 6.979205, step = 3001 (0.127 sec)\n",
      "INFO:tensorflow:global_step/sec: 845.322\n",
      "INFO:tensorflow:loss = 24.70222, step = 3101 (0.118 sec)\n",
      "INFO:tensorflow:global_step/sec: 791.08\n",
      "INFO:tensorflow:loss = 11.782366, step = 3201 (0.126 sec)\n",
      "INFO:tensorflow:global_step/sec: 776.858\n",
      "INFO:tensorflow:loss = 3.972348, step = 3301 (0.130 sec)\n",
      "INFO:tensorflow:global_step/sec: 819.666\n",
      "INFO:tensorflow:loss = 5.9909906, step = 3401 (0.123 sec)\n",
      "INFO:tensorflow:global_step/sec: 758.12\n",
      "INFO:tensorflow:loss = 7.1942353, step = 3501 (0.132 sec)\n",
      "INFO:tensorflow:global_step/sec: 814.713\n",
      "INFO:tensorflow:loss = 10.451819, step = 3601 (0.121 sec)\n",
      "INFO:tensorflow:global_step/sec: 779.033\n",
      "INFO:tensorflow:loss = 1.655577, step = 3701 (0.128 sec)\n",
      "INFO:tensorflow:global_step/sec: 761.983\n",
      "INFO:tensorflow:loss = 16.120668, step = 3801 (0.131 sec)\n",
      "INFO:tensorflow:global_step/sec: 832.75\n",
      "INFO:tensorflow:loss = 3.631187, step = 3901 (0.125 sec)\n",
      "INFO:tensorflow:global_step/sec: 754.246\n",
      "INFO:tensorflow:loss = 16.120304, step = 4001 (0.129 sec)\n",
      "INFO:tensorflow:global_step/sec: 791.25\n",
      "INFO:tensorflow:loss = 9.782654, step = 4101 (0.126 sec)\n",
      "INFO:tensorflow:global_step/sec: 833.939\n",
      "INFO:tensorflow:loss = 9.10751, step = 4201 (0.119 sec)\n",
      "INFO:tensorflow:global_step/sec: 746.487\n",
      "INFO:tensorflow:loss = 2.5002968, step = 4301 (0.134 sec)\n",
      "INFO:tensorflow:global_step/sec: 740.209\n",
      "INFO:tensorflow:loss = 9.643057, step = 4401 (0.136 sec)\n",
      "INFO:tensorflow:global_step/sec: 821.166\n",
      "INFO:tensorflow:loss = 4.1317997, step = 4501 (0.121 sec)\n",
      "INFO:tensorflow:global_step/sec: 830.767\n",
      "INFO:tensorflow:loss = 5.5882254, step = 4601 (0.120 sec)\n",
      "INFO:tensorflow:global_step/sec: 852.652\n",
      "INFO:tensorflow:loss = 4.2400336, step = 4701 (0.117 sec)\n",
      "INFO:tensorflow:global_step/sec: 663.495\n",
      "INFO:tensorflow:loss = 16.92942, step = 4801 (0.152 sec)\n",
      "INFO:tensorflow:global_step/sec: 733.328\n",
      "INFO:tensorflow:loss = 5.294632, step = 4901 (0.136 sec)\n",
      "INFO:tensorflow:Saving checkpoints for 5000 into C:\\Users\\DEMONG~1\\AppData\\Local\\Temp\\tmpavqz7a3g\\model.ckpt.\n",
      "INFO:tensorflow:Loss for final step: 6.934292.\n"
     ]
    },
    {
     "data": {
      "text/plain": [
       "<tensorflow.python.estimator.canned.linear.LinearRegressor at 0x1c6ba40ca20>"
      ]
     },
     "execution_count": 28,
     "metadata": {},
     "output_type": "execute_result"
    }
   ],
   "source": [
    "#starting training \n",
    "\n",
    "estimator.train(inputs,steps=5000)"
   ]
  },
  {
   "cell_type": "code",
   "execution_count": 31,
   "metadata": {},
   "outputs": [
    {
     "name": "stdout",
     "output_type": "stream",
     "text": [
      "INFO:tensorflow:Calling model_fn.\n",
      "INFO:tensorflow:Done calling model_fn.\n",
      "INFO:tensorflow:Starting evaluation at 2018-06-23-20:03:07\n",
      "INFO:tensorflow:Graph was finalized.\n",
      "INFO:tensorflow:Restoring parameters from C:\\Users\\DEMONG~1\\AppData\\Local\\Temp\\tmpavqz7a3g\\model.ckpt-5000\n",
      "INFO:tensorflow:Running local_init_op.\n",
      "INFO:tensorflow:Done running local_init_op.\n",
      "INFO:tensorflow:Evaluation [500/5000]\n",
      "INFO:tensorflow:Evaluation [1000/5000]\n",
      "INFO:tensorflow:Evaluation [1500/5000]\n",
      "INFO:tensorflow:Evaluation [2000/5000]\n",
      "INFO:tensorflow:Evaluation [2500/5000]\n",
      "INFO:tensorflow:Evaluation [3000/5000]\n",
      "INFO:tensorflow:Evaluation [3500/5000]\n",
      "INFO:tensorflow:Evaluation [4000/5000]\n",
      "INFO:tensorflow:Evaluation [4500/5000]\n",
      "INFO:tensorflow:Evaluation [5000/5000]\n",
      "INFO:tensorflow:Finished evaluation at 2018-06-23-20:03:12\n",
      "INFO:tensorflow:Saving dict for global step 5000: average_loss = 1.0116074, global_step = 5000, loss = 8.092859\n"
     ]
    }
   ],
   "source": [
    "# see training metrics\n",
    "\n",
    "train_metric=estimator.evaluate(input_fn=inputs_train,steps=5000)"
   ]
  },
  {
   "cell_type": "code",
   "execution_count": 32,
   "metadata": {},
   "outputs": [
    {
     "name": "stdout",
     "output_type": "stream",
     "text": [
      "INFO:tensorflow:Calling model_fn.\n",
      "INFO:tensorflow:Done calling model_fn.\n",
      "INFO:tensorflow:Starting evaluation at 2018-06-23-20:03:31\n",
      "INFO:tensorflow:Graph was finalized.\n",
      "INFO:tensorflow:Restoring parameters from C:\\Users\\DEMONG~1\\AppData\\Local\\Temp\\tmpavqz7a3g\\model.ckpt-5000\n",
      "INFO:tensorflow:Running local_init_op.\n",
      "INFO:tensorflow:Done running local_init_op.\n",
      "INFO:tensorflow:Evaluation [500/5000]\n",
      "INFO:tensorflow:Evaluation [1000/5000]\n",
      "INFO:tensorflow:Evaluation [1500/5000]\n",
      "INFO:tensorflow:Evaluation [2000/5000]\n",
      "INFO:tensorflow:Evaluation [2500/5000]\n",
      "INFO:tensorflow:Evaluation [3000/5000]\n",
      "INFO:tensorflow:Evaluation [3500/5000]\n",
      "INFO:tensorflow:Evaluation [4000/5000]\n",
      "INFO:tensorflow:Evaluation [4500/5000]\n",
      "INFO:tensorflow:Evaluation [5000/5000]\n",
      "INFO:tensorflow:Finished evaluation at 2018-06-23-20:03:36\n",
      "INFO:tensorflow:Saving dict for global step 5000: average_loss = 1.0090108, global_step = 5000, loss = 8.072086\n"
     ]
    }
   ],
   "source": [
    "test_metric=estimator.evaluate(input_fn=inputs_test,steps=5000)"
   ]
  },
  {
   "cell_type": "code",
   "execution_count": 33,
   "metadata": {},
   "outputs": [
    {
     "name": "stdout",
     "output_type": "stream",
     "text": [
      "{'average_loss': 1.0116074, 'loss': 8.092859, 'global_step': 5000}\n"
     ]
    }
   ],
   "source": [
    "print(train_metric)"
   ]
  },
  {
   "cell_type": "code",
   "execution_count": 34,
   "metadata": {},
   "outputs": [
    {
     "name": "stdout",
     "output_type": "stream",
     "text": [
      "{'average_loss': 1.0090108, 'loss': 8.072086, 'global_step': 5000}\n"
     ]
    }
   ],
   "source": [
    "print(test_metric)"
   ]
  },
  {
   "cell_type": "code",
   "execution_count": 48,
   "metadata": {},
   "outputs": [],
   "source": [
    "#predicting from the trained model\n",
    "predict_data=np.linspace(0,15,15)\n",
    "input_predict=tf.estimator.inputs.numpy_input_fn({'x':predict_data},batch_size=15,shuffle=False)"
   ]
  },
  {
   "cell_type": "code",
   "execution_count": 49,
   "metadata": {},
   "outputs": [
    {
     "name": "stdout",
     "output_type": "stream",
     "text": [
      "INFO:tensorflow:Calling model_fn.\n",
      "INFO:tensorflow:Done calling model_fn.\n",
      "INFO:tensorflow:Graph was finalized.\n",
      "INFO:tensorflow:Restoring parameters from C:\\Users\\DEMONG~1\\AppData\\Local\\Temp\\tmpavqz7a3g\\model.ckpt-5000\n",
      "INFO:tensorflow:Running local_init_op.\n",
      "INFO:tensorflow:Done running local_init_op.\n"
     ]
    },
    {
     "data": {
      "text/plain": [
       "[{'predictions': array([4.9657865], dtype=float32)},\n",
       " {'predictions': array([5.39916], dtype=float32)},\n",
       " {'predictions': array([5.832534], dtype=float32)},\n",
       " {'predictions': array([6.2659073], dtype=float32)},\n",
       " {'predictions': array([6.699281], dtype=float32)},\n",
       " {'predictions': array([7.132655], dtype=float32)},\n",
       " {'predictions': array([7.5660286], dtype=float32)},\n",
       " {'predictions': array([7.999402], dtype=float32)},\n",
       " {'predictions': array([8.4327755], dtype=float32)},\n",
       " {'predictions': array([8.86615], dtype=float32)},\n",
       " {'predictions': array([9.299523], dtype=float32)},\n",
       " {'predictions': array([9.732897], dtype=float32)},\n",
       " {'predictions': array([10.16627], dtype=float32)},\n",
       " {'predictions': array([10.599644], dtype=float32)},\n",
       " {'predictions': array([11.033018], dtype=float32)}]"
      ]
     },
     "execution_count": 49,
     "metadata": {},
     "output_type": "execute_result"
    }
   ],
   "source": [
    "#viewing the results\n",
    "list(estimator.predict(input_fn=input_predict))"
   ]
  },
  {
   "cell_type": "code",
   "execution_count": 50,
   "metadata": {},
   "outputs": [
    {
     "name": "stdout",
     "output_type": "stream",
     "text": [
      "INFO:tensorflow:Calling model_fn.\n",
      "INFO:tensorflow:Done calling model_fn.\n",
      "INFO:tensorflow:Graph was finalized.\n",
      "INFO:tensorflow:Restoring parameters from C:\\Users\\DEMONG~1\\AppData\\Local\\Temp\\tmpavqz7a3g\\model.ckpt-5000\n",
      "INFO:tensorflow:Running local_init_op.\n",
      "INFO:tensorflow:Done running local_init_op.\n"
     ]
    }
   ],
   "source": [
    "results=[]\n",
    "\n",
    "for i in estimator.predict(input_fn=input_predict):\n",
    "    results.append(i[\"predictions\"])"
   ]
  },
  {
   "cell_type": "code",
   "execution_count": 54,
   "metadata": {},
   "outputs": [
    {
     "data": {
      "text/plain": [
       "[<matplotlib.lines.Line2D at 0x1c6bd82bda0>]"
      ]
     },
     "execution_count": 54,
     "metadata": {},
     "output_type": "execute_result"
    },
    {
     "data": {
      "image/png": "[encoded data removed]",
      "text/plain": [
       "<matplotlib.figure.Figure at 0x1c6b958fe80>"
      ]
     },
     "metadata": {},
     "output_type": "display_data"
    }
   ],
   "source": [
    "data.sample(n=300).plot(kind=\"scatter\",x=\"x_train\",y=\"y_train\")\n",
    "plt.plot(predict_data,results,c='red')"
   ]
  },
  {
   "cell_type": "code",
   "execution_count": null,
   "metadata": {},
   "outputs": [],
   "source": []
  }
 ],
 "metadata": {
  "kernelspec": {
   "display_name": "Python 3",
   "language": "python",
   "name": "python3"
  },
  "language_info": {
   "codemirror_mode": {
    "name": "ipython",
    "version": 3
   },
   "file_extension": ".py",
   "mimetype": "text/x-python",
   "name": "python",
   "nbconvert_exporter": "python",
   "pygments_lexer": "ipython3",
   "version": "3.6.4"
  }
 },
 "nbformat": 4,
 "nbformat_minor": 2
}
