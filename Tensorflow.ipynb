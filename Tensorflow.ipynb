{
 "cells": [
  {
   "cell_type": "code",
   "execution_count": 56,
   "metadata": {},
   "outputs": [],
   "source": [
    "import tensorflow as tf\n",
    "import numpy as np"
   ]
  },
  {
   "cell_type": "code",
   "execution_count": 2,
   "metadata": {},
   "outputs": [
    {
     "data": {
      "text/plain": [
       "'1.8.0'"
      ]
     },
     "execution_count": 2,
     "metadata": {},
     "output_type": "execute_result"
    }
   ],
   "source": [
    "tf.__version__"
   ]
  },
  {
   "cell_type": "code",
   "execution_count": 4,
   "metadata": {},
   "outputs": [],
   "source": [
    "#fill with a random value\n",
    "\n",
    "fill_random=tf.fill((4,4),10)"
   ]
  },
  {
   "cell_type": "code",
   "execution_count": 7,
   "metadata": {},
   "outputs": [],
   "source": [
    "#ones\n",
    "\n",
    "one_ran=tf.ones((4,4))\n",
    "\n",
    "#zeros\n",
    "\n",
    "zeros_ran=tf.zeros((4,4))\n",
    "\n",
    "#normal gausian distribution\n",
    "\n",
    "gaussian_normal=tf.random_normal((4,4))\n",
    "\n",
    "#uniform distribution\n",
    "\n",
    "uniform_normal=tf.random_uniform((4,4))\n",
    "\n",
    "ops=[fill_random,one_ran,zeros_ran,gaussian_normal,uniform_normal]\n",
    "\n"
   ]
  },
  {
   "cell_type": "code",
   "execution_count": 9,
   "metadata": {},
   "outputs": [
    {
     "name": "stdout",
     "output_type": "stream",
     "text": [
      "[[10 10 10 10]\n",
      " [10 10 10 10]\n",
      " [10 10 10 10]\n",
      " [10 10 10 10]]\n",
      "\n",
      "\n",
      "[[1. 1. 1. 1.]\n",
      " [1. 1. 1. 1.]\n",
      " [1. 1. 1. 1.]\n",
      " [1. 1. 1. 1.]]\n",
      "\n",
      "\n",
      "[[0. 0. 0. 0.]\n",
      " [0. 0. 0. 0.]\n",
      " [0. 0. 0. 0.]\n",
      " [0. 0. 0. 0.]]\n",
      "\n",
      "\n",
      "[[-1.4333189  -1.471618    1.4467049  -0.01437237]\n",
      " [-0.03739963  0.51683885 -1.3999336  -1.889348  ]\n",
      " [-0.35175067  1.5117584  -0.7044044  -0.16642357]\n",
      " [-0.2943137   0.3556056  -1.0796146  -1.2500054 ]]\n",
      "\n",
      "\n",
      "[[0.9032072  0.73184454 0.55531955 0.9545002 ]\n",
      " [0.23525369 0.5102701  0.8696667  0.4816271 ]\n",
      " [0.2920977  0.88818717 0.6867908  0.18865263]\n",
      " [0.52535534 0.17194688 0.11780202 0.699252  ]]\n",
      "\n",
      "\n"
     ]
    }
   ],
   "source": [
    "with tf.Session() as sess:\n",
    "    for op in ops:\n",
    "        print(sess.run(op))\n",
    "        print(\"\\n\")"
   ]
  },
  {
   "cell_type": "code",
   "execution_count": 10,
   "metadata": {},
   "outputs": [],
   "source": [
    "a=tf.constant([[1,2,3],\n",
    "               [4,5,6]])"
   ]
  },
  {
   "cell_type": "code",
   "execution_count": 16,
   "metadata": {},
   "outputs": [
    {
     "name": "stdout",
     "output_type": "stream",
     "text": [
      "(2, 3)\n",
      "(2, 3)\n"
     ]
    }
   ],
   "source": [
    "print(a.shape)\n",
    "print(a.get_shape())\n",
    "\n"
   ]
  },
  {
   "cell_type": "code",
   "execution_count": 22,
   "metadata": {},
   "outputs": [
    {
     "name": "stdout",
     "output_type": "stream",
     "text": [
      "<tensorflow.python.framework.ops.Graph object at 0x00000240E0927FD0>\n",
      "<tensorflow.python.framework.ops.Graph object at 0x00000240E1A0B860>\n"
     ]
    }
   ],
   "source": [
    "#graph\n",
    "\n",
    "g_default=tf.get_default_graph()\n",
    "print(g)\n",
    "g_new=tf.Graph()\n",
    "print(g_new)"
   ]
  },
  {
   "cell_type": "code",
   "execution_count": 25,
   "metadata": {},
   "outputs": [
    {
     "name": "stdout",
     "output_type": "stream",
     "text": [
      "True\n"
     ]
    }
   ],
   "source": [
    "with g_new.as_default():\n",
    "    print(g_new is tf.get_default_graph())"
   ]
  },
  {
   "cell_type": "code",
   "execution_count": 26,
   "metadata": {},
   "outputs": [
    {
     "name": "stdout",
     "output_type": "stream",
     "text": [
      "False\n"
     ]
    }
   ],
   "source": [
    "print(g_new is tf.get_default_graph())"
   ]
  },
  {
   "cell_type": "code",
   "execution_count": 27,
   "metadata": {},
   "outputs": [],
   "source": [
    "#tensorflow variables\n",
    "var=tf.random_uniform((4,4),0,15)"
   ]
  },
  {
   "cell_type": "code",
   "execution_count": 28,
   "metadata": {},
   "outputs": [],
   "source": [
    "variable_t=tf.Variable(initial_value=var)\n",
    "op=tf.global_variables_initializer()\n"
   ]
  },
  {
   "cell_type": "code",
   "execution_count": 34,
   "metadata": {},
   "outputs": [],
   "source": [
    "with tf.Session() as sess:\n",
    "    sess.run(op)\n",
    "    result=sess.run(variable_t)"
   ]
  },
  {
   "cell_type": "code",
   "execution_count": 35,
   "metadata": {},
   "outputs": [
    {
     "name": "stdout",
     "output_type": "stream",
     "text": [
      "[[14.524196    2.8350072  13.183545    6.8335924 ]\n",
      " [ 4.203018    5.7560277  13.759436   10.8150835 ]\n",
      " [ 5.4362764   7.424855    2.3039265   6.3284006 ]\n",
      " [ 0.61958134  9.06031    14.137271    7.927333  ]]\n"
     ]
    }
   ],
   "source": [
    "print(result)"
   ]
  },
  {
   "cell_type": "code",
   "execution_count": 37,
   "metadata": {},
   "outputs": [],
   "source": [
    "#tensorflow placeholder\n",
    "\n",
    "place_holder=tf.placeholder(tf.float32,shape=(None,5))"
   ]
  },
  {
   "cell_type": "code",
   "execution_count": 40,
   "metadata": {},
   "outputs": [
    {
     "data": {
      "text/plain": [
       "TensorShape([Dimension(None), Dimension(5)])"
      ]
     },
     "execution_count": 40,
     "metadata": {},
     "output_type": "execute_result"
    }
   ],
   "source": [
    "place_holder.get_shape()"
   ]
  },
  {
   "cell_type": "code",
   "execution_count": null,
   "metadata": {},
   "outputs": [],
   "source": [
    "#seeding\n",
    "\n",
    "\n",
    "np.random.seed(10)\n",
    "tf.random_seed(10)\n"
   ]
  },
  {
   "cell_type": "code",
   "execution_count": 68,
   "metadata": {},
   "outputs": [
    {
     "name": "stdout",
     "output_type": "stream",
     "text": [
      "[[3.35262882 0.63529518 2.89688038 0.573614  ]\n",
      " [0.17457957 3.85794032 0.5627701  0.47606134]\n",
      " [2.00689923 2.34545504 0.19149147 2.87451987]\n",
      " [4.68749788 3.414414   0.84837823 1.86304018]]\n",
      "\n",
      "\n",
      "[[0.42784325]\n",
      " [2.84783003]\n",
      " [0.48289813]\n",
      " [0.2969771 ]]\n"
     ]
    }
   ],
   "source": [
    "rand_a=np.random.uniform(0,5,(4,4))\n",
    "rand_b=np.random.uniform(0,4,(4,1))\n",
    "\n",
    "print(rand_a)\n",
    "print(\"\\n\")\n",
    "print(rand_b)\n"
   ]
  },
  {
   "cell_type": "code",
   "execution_count": 69,
   "metadata": {},
   "outputs": [],
   "source": [
    "pf_a=tf.placeholder(tf.float32)\n",
    "pf_b=tf.placeholder(tf.float32)\n"
   ]
  },
  {
   "cell_type": "code",
   "execution_count": 70,
   "metadata": {},
   "outputs": [],
   "source": [
    "add_op=pf_a+pf_b"
   ]
  },
  {
   "cell_type": "code",
   "execution_count": 71,
   "metadata": {},
   "outputs": [],
   "source": [
    "with tf.Session() as sess:\n",
    "    result=sess.run(add_op,feed_dict={pf_a:rand_a,pf_b:rand_b}) #in feed_dict tensors can't be passed so pass numpy array"
   ]
  },
  {
   "cell_type": "code",
   "execution_count": 72,
   "metadata": {},
   "outputs": [
    {
     "name": "stdout",
     "output_type": "stream",
     "text": [
      "[[3.780472  1.0631384 3.3247237 1.0014572]\n",
      " [3.0224097 6.7057705 3.4106002 3.3238914]\n",
      " [2.489797  2.828353  0.6743896 3.357418 ]\n",
      " [4.984475  3.711391  1.1453553 2.1600173]]\n"
     ]
    }
   ],
   "source": [
    "print(result)"
   ]
  },
  {
   "cell_type": "code",
   "execution_count": null,
   "metadata": {},
   "outputs": [],
   "source": []
  }
 ],
 "metadata": {
  "kernelspec": {
   "display_name": "Python 3",
   "language": "python",
   "name": "python3"
  },
  "language_info": {
   "codemirror_mode": {
    "name": "ipython",
    "version": 3
   },
   "file_extension": ".py",
   "mimetype": "text/x-python",
   "name": "python",
   "nbconvert_exporter": "python",
   "pygments_lexer": "ipython3",
   "version": "3.6.4"
  }
 },
 "nbformat": 4,
 "nbformat_minor": 2
}
