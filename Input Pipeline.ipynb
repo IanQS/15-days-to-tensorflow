{
 "cells": [
  {
   "cell_type": "code",
   "execution_count": 1,
   "metadata": {},
   "outputs": [],
   "source": [
    "import tensorflow as tf"
   ]
  },
  {
   "cell_type": "code",
   "execution_count": 72,
   "metadata": {},
   "outputs": [
    {
     "name": "stdout",
     "output_type": "stream",
     "text": [
      "I use Tensorflow\n",
      "You use PyTorch\n",
      "Both are great\n"
     ]
    }
   ],
   "source": [
    "with open(\"read_tf.txt\",\"r\") as filer:\n",
    "    print(filer.read())"
   ]
  },
  {
   "cell_type": "code",
   "execution_count": 12,
   "metadata": {},
   "outputs": [],
   "source": [
    "#tf.data is used to build input pipelines\n",
    "#Former data pipelines made the GPU wait for the CPU to load the data, leading to performance issues."
   ]
  },
  {
   "cell_type": "code",
   "execution_count": 48,
   "metadata": {},
   "outputs": [],
   "source": [
    "input_data=tf.data.TextLineDataset(\"read_tf.txt\")\n"
   ]
  },
  {
   "cell_type": "code",
   "execution_count": 49,
   "metadata": {},
   "outputs": [
    {
     "name": "stdout",
     "output_type": "stream",
     "text": [
      "b'I use Tensorflow'\n",
      "b'You use PyTorch'\n",
      "b'Both are great'\n"
     ]
    }
   ],
   "source": [
    "iterate=input_data.make_one_shot_iterator()\n",
    "next_data=iterate.get_next()\n",
    "with tf.Session() as sess:\n",
    "    for i in range(3):\n",
    "        print(sess.run(next_data))"
   ]
  },
  {
   "cell_type": "code",
   "execution_count": 50,
   "metadata": {},
   "outputs": [],
   "source": [
    "#Splitting words by space \n",
    "input_data=input_data.map(lambda x:tf.string_split([x]).values)\n"
   ]
  },
  {
   "cell_type": "code",
   "execution_count": 51,
   "metadata": {},
   "outputs": [
    {
     "name": "stdout",
     "output_type": "stream",
     "text": [
      "[b'I' b'use' b'Tensorflow']\n",
      "[b'You' b'use' b'PyTorch']\n",
      "[b'Both' b'are' b'great']\n"
     ]
    }
   ],
   "source": [
    "iterate=input_data.make_one_shot_iterator()\n",
    "next_data=iterate.get_next()\n",
    "with tf.Session() as sess:\n",
    "    for i in range(3):\n",
    "        print(sess.run(next_data))"
   ]
  },
  {
   "cell_type": "code",
   "execution_count": 52,
   "metadata": {},
   "outputs": [
    {
     "name": "stdout",
     "output_type": "stream",
     "text": [
      "[b'You' b'use' b'PyTorch']\n",
      "[b'Both' b'are' b'great']\n",
      "[b'I' b'use' b'Tensorflow']\n"
     ]
    }
   ],
   "source": [
    "#Shuffling dataset\n",
    "input_data=input_data.shuffle(buffer_size=3) #buffer size is to load data in batches\n",
    "iterate=input_data.make_one_shot_iterator()\n",
    "next_data=iterate.get_next()\n",
    "with tf.Session() as sess:\n",
    "    for i in range(3):\n",
    "        print(sess.run(next_data))\n"
   ]
  },
  {
   "cell_type": "code",
   "execution_count": 53,
   "metadata": {},
   "outputs": [
    {
     "name": "stdout",
     "output_type": "stream",
     "text": [
      "[[b'Both' b'are' b'great']\n",
      " [b'You' b'use' b'PyTorch']]\n",
      "[[b'I' b'use' b'Tensorflow']]\n"
     ]
    }
   ],
   "source": [
    "#create batches\n",
    "new_data_batch=input_data.batch(batch_size=2)#to load data in batches\n",
    "fetcher=new_data_batch.prefetch(buffer_size=1)#always have data in the pipeline\n",
    "iterate=fetcher.make_one_shot_iterator()\n",
    "next_batch_data=iterate.get_next()\n",
    "with tf.Session() as sess:\n",
    "    for i in range(3):\n",
    "        try:\n",
    "            print(sess.run(next_batch_data))\n",
    "        except:continue"
   ]
  },
  {
   "cell_type": "code",
   "execution_count": 55,
   "metadata": {},
   "outputs": [],
   "source": [
    "#we use initializable iterators so that we can chose to “restart” from the beginning.\n",
    "#This will become quite handy when we want to perform multiple epochs !"
   ]
  },
  {
   "cell_type": "code",
   "execution_count": 56,
   "metadata": {},
   "outputs": [
    {
     "name": "stdout",
     "output_type": "stream",
     "text": [
      "b'I use Tensorflow'\n",
      "b'You use PyTorch'\n",
      "b'I use Tensorflow'\n"
     ]
    }
   ],
   "source": [
    "dataset = tf.data.TextLineDataset(\"read_tf.txt\")\n",
    "iterator = dataset.make_initializable_iterator()\n",
    "next_element = iterator.get_next()\n",
    "init_op = iterator.initializer\n",
    "with tf.Session() as sess:\n",
    "    # Initialize the iterator\n",
    "    sess.run(init_op)\n",
    "    print(sess.run(next_element))\n",
    "    print(sess.run(next_element))\n",
    "    # Move the iterator back to the beginning\n",
    "    sess.run(init_op)\n",
    "    print(sess.run(next_element))"
   ]
  },
  {
   "cell_type": "code",
   "execution_count": 73,
   "metadata": {},
   "outputs": [],
   "source": [
    "#Building an image data pipeline"
   ]
  },
  {
   "cell_type": "code",
   "execution_count": 83,
   "metadata": {},
   "outputs": [],
   "source": [
    "#.Create the dataset from slices of the filenames and labels\n",
    "#.Shuffle the data with a buffer size equal to the length of the dataset. This ensures good shuffling \n",
    "#.Parse the images from filename to the pixel values. Use multiple threads to improve the speed of preprocessing\n",
    "#.(Optional for training) Data augmentation for the images. Use multiple threads to improve the speed of preprocessing\n",
    "#.Batch the images\n",
    "#.Prefetch one batch to make sure that a batch is ready to be served at all time"
   ]
  },
  {
   "cell_type": "code",
   "execution_count": 89,
   "metadata": {},
   "outputs": [],
   "source": [
    "#step 1\n",
    "import numpy as np\n",
    "features, labels = (np.random.sample((100,2)), np.random.sample((100,1)))\n",
    "dataset = tf.data.Dataset.from_tensor_slices((features,labels))"
   ]
  },
  {
   "cell_type": "raw",
   "metadata": {},
   "source": [
    "From generator We can also initialise a Dataset from a generator, this is useful when we have an array of different elements length (e.g a sequence): In this case we also need specify the types and the shapes of your data that will be used to create the correct tensors."
   ]
  },
  {
   "cell_type": "code",
   "execution_count": 106,
   "metadata": {},
   "outputs": [],
   "source": [
    "sequence = np.array([[[1]],[[2],[3]],[[3],[4],[5]]])\n",
    "def generator_seq():\n",
    "    for el in sequence:\n",
    "        yield el\n",
    "dataset_seq = tf.data.Dataset().batch(1).from_generator(generator_seq,\n",
    "                                           output_types= tf.int64, \n",
    "                                           output_shapes=(tf.TensorShape([None, 1])))\n"
   ]
  },
  {
   "cell_type": "code",
   "execution_count": 107,
   "metadata": {},
   "outputs": [
    {
     "name": "stdout",
     "output_type": "stream",
     "text": [
      "[[1]]\n",
      "[[2]\n",
      " [3]]\n",
      "[[3]\n",
      " [4]\n",
      " [5]]\n"
     ]
    }
   ],
   "source": [
    "iter = dataset_seq.make_initializable_iterator()\n",
    "el = iter.get_next()\n",
    "with tf.Session() as sess:\n",
    "    sess.run(iter.initializer)\n",
    "    print(sess.run(el))\n",
    "    print(sess.run(el))\n",
    "    print(sess.run(el))"
   ]
  },
  {
   "cell_type": "code",
   "execution_count": 112,
   "metadata": {},
   "outputs": [
    {
     "data": {
      "text/html": [
       "<div>\n",
       "<style scoped>\n",
       "    .dataframe tbody tr th:only-of-type {\n",
       "        vertical-align: middle;\n",
       "    }\n",
       "\n",
       "    .dataframe tbody tr th {\n",
       "        vertical-align: top;\n",
       "    }\n",
       "\n",
       "    .dataframe thead th {\n",
       "        text-align: right;\n",
       "    }\n",
       "</style>\n",
       "<table border=\"1\" class=\"dataframe\">\n",
       "  <thead>\n",
       "    <tr style=\"text-align: right;\">\n",
       "      <th></th>\n",
       "      <th>Start Date</th>\n",
       "      <th>Start Time</th>\n",
       "      <th>End Date</th>\n",
       "      <th>End Time</th>\n",
       "      <th>Event Title</th>\n",
       "      <th>All Day Event</th>\n",
       "      <th>No End Time</th>\n",
       "      <th>Event Description</th>\n",
       "      <th>Contact</th>\n",
       "      <th>Contact Email</th>\n",
       "      <th>Contact Phone</th>\n",
       "      <th>Location</th>\n",
       "      <th>Category</th>\n",
       "      <th>Mandatory</th>\n",
       "      <th>Registration</th>\n",
       "      <th>Maximum</th>\n",
       "      <th>Last Date To Register</th>\n",
       "    </tr>\n",
       "  </thead>\n",
       "  <tbody>\n",
       "    <tr>\n",
       "      <th>0</th>\n",
       "      <td>9/5/2011</td>\n",
       "      <td>3:00:00 PM</td>\n",
       "      <td>9/5/2011</td>\n",
       "      <td>NaN</td>\n",
       "      <td>Social Studies Dept. Meeting</td>\n",
       "      <td>N</td>\n",
       "      <td>Y</td>\n",
       "      <td>Department meeting</td>\n",
       "      <td>Chris Gallagher</td>\n",
       "      <td>cgallagher@schoolwires.com</td>\n",
       "      <td>814-555-5179</td>\n",
       "      <td>High School</td>\n",
       "      <td>2</td>\n",
       "      <td>N</td>\n",
       "      <td>N</td>\n",
       "      <td>25</td>\n",
       "      <td>9/2/2011</td>\n",
       "    </tr>\n",
       "    <tr>\n",
       "      <th>1</th>\n",
       "      <td>9/5/2011</td>\n",
       "      <td>6:00:00 PM</td>\n",
       "      <td>9/5/2011</td>\n",
       "      <td>8:00:00 PM</td>\n",
       "      <td>Curriculum Meeting</td>\n",
       "      <td>N</td>\n",
       "      <td>N</td>\n",
       "      <td>Curriculum Meeting</td>\n",
       "      <td>Chris Gallagher</td>\n",
       "      <td>cgallagher@schoolwires.com</td>\n",
       "      <td>814-555-5179</td>\n",
       "      <td>High School</td>\n",
       "      <td>2</td>\n",
       "      <td>N</td>\n",
       "      <td>N</td>\n",
       "      <td>25</td>\n",
       "      <td>9/2/2011</td>\n",
       "    </tr>\n",
       "  </tbody>\n",
       "</table>\n",
       "</div>"
      ],
      "text/plain": [
       "  Start Date   Start Time  End Date    End Time                  Event Title   \\\n",
       "0    9/5/2011  3:00:00 PM  9/5/2011         NaN  Social Studies Dept. Meeting   \n",
       "1    9/5/2011  6:00:00 PM  9/5/2011  8:00:00 PM            Curriculum Meeting   \n",
       "\n",
       "  All Day Event No End Time   Event Description         Contact   \\\n",
       "0             N           Y  Department meeting  Chris Gallagher   \n",
       "1             N           N  Curriculum Meeting  Chris Gallagher   \n",
       "\n",
       "                Contact Email Contact Phone     Location  Category Mandatory  \\\n",
       "0  cgallagher@schoolwires.com  814-555-5179  High School         2         N   \n",
       "1  cgallagher@schoolwires.com  814-555-5179  High School         2         N   \n",
       "\n",
       "  Registration  Maximum Last Date To Register  \n",
       "0            N       25              9/2/2011  \n",
       "1            N       25              9/2/2011  "
      ]
     },
     "execution_count": 112,
     "metadata": {},
     "output_type": "execute_result"
    }
   ],
   "source": [
    "#from csv\n",
    "import pandas as pd\n",
    "df=pd.read_csv(\"sample.csv\")\n",
    "df.head()"
   ]
  },
  {
   "cell_type": "code",
   "execution_count": 113,
   "metadata": {},
   "outputs": [
    {
     "name": "stdout",
     "output_type": "stream",
     "text": [
      "OrderedDict([('Start Date ', <tf.Tensor 'IteratorGetNext_34:15' shape=(?,) dtype=string>), ('Start Time', <tf.Tensor 'IteratorGetNext_34:16' shape=(?,) dtype=string>), ('End Date', <tf.Tensor 'IteratorGetNext_34:5' shape=(?,) dtype=string>), ('End Time', <tf.Tensor 'IteratorGetNext_34:6' shape=(?,) dtype=string>), ('Event Title ', <tf.Tensor 'IteratorGetNext_34:8' shape=(?,) dtype=string>), ('All Day Event', <tf.Tensor 'IteratorGetNext_34:0' shape=(?,) dtype=string>), ('No End Time', <tf.Tensor 'IteratorGetNext_34:13' shape=(?,) dtype=string>), ('Event Description', <tf.Tensor 'IteratorGetNext_34:7' shape=(?,) dtype=string>), ('Contact ', <tf.Tensor 'IteratorGetNext_34:2' shape=(?,) dtype=string>), ('Contact Email', <tf.Tensor 'IteratorGetNext_34:3' shape=(?,) dtype=string>), ('Contact Phone', <tf.Tensor 'IteratorGetNext_34:4' shape=(?,) dtype=string>), ('Location', <tf.Tensor 'IteratorGetNext_34:10' shape=(?,) dtype=string>), ('Category', <tf.Tensor 'IteratorGetNext_34:1' shape=(?,) dtype=int32>), ('Mandatory', <tf.Tensor 'IteratorGetNext_34:11' shape=(?,) dtype=string>), ('Registration', <tf.Tensor 'IteratorGetNext_34:14' shape=(?,) dtype=string>), ('Maximum', <tf.Tensor 'IteratorGetNext_34:12' shape=(?,) dtype=int32>), ('Last Date To Register', <tf.Tensor 'IteratorGetNext_34:9' shape=(?,) dtype=string>)])\n"
     ]
    }
   ],
   "source": [
    "path=\"sample.csv\"\n",
    "data_csv=tf.contrib.data.make_csv_dataset(path, batch_size=32)\n",
    "iter = data_csv.make_one_shot_iterator()\n",
    "next = iter.get_next()\n",
    "print(next)\n"
   ]
  },
  {
   "cell_type": "code",
   "execution_count": 117,
   "metadata": {},
   "outputs": [
    {
     "name": "stdout",
     "output_type": "stream",
     "text": [
      "[array([b'9/5/2011', b'9/5/2011', b'9/5/2011', b'9/5/2011', b'9/5/2011',\n",
      "       b'9/5/2011', b'9/5/2011', b'9/5/2011', b'9/5/2011', b'9/5/2011',\n",
      "       b'9/5/2011', b'9/5/2011', b'9/5/2011', b'9/5/2011', b'9/5/2011',\n",
      "       b'9/5/2011', b'9/5/2011', b'9/5/2011', b'9/5/2011', b'9/5/2011',\n",
      "       b'9/5/2011', b'9/5/2011', b'9/5/2011', b'9/5/2011', b'9/5/2011',\n",
      "       b'9/5/2011', b'9/5/2011', b'9/5/2011', b'9/5/2011', b'9/5/2011',\n",
      "       b'9/5/2011', b'9/5/2011'], dtype=object), array([b'High School', b'High School', b'High School', b'High School',\n",
      "       b'High School', b'High School', b'High School', b'High School',\n",
      "       b'High School', b'High School', b'High School', b'High School',\n",
      "       b'High School', b'High School', b'High School', b'High School',\n",
      "       b'High School', b'High School', b'High School', b'High School',\n",
      "       b'High School', b'High School', b'High School', b'High School',\n",
      "       b'High School', b'High School', b'High School', b'High School',\n",
      "       b'High School', b'High School', b'High School', b'High School'],\n",
      "      dtype=object)]\n"
     ]
    }
   ],
   "source": [
    "inputs, labels = next['End Date'], next['Location']\n",
    "with  tf.Session() as sess:\n",
    "    print(sess.run([inputs, labels]))"
   ]
  },
  {
   "cell_type": "code",
   "execution_count": 120,
   "metadata": {},
   "outputs": [
    {
     "data": {
      "text/plain": [
       "array([0.47194223, 0.00933356])"
      ]
     },
     "execution_count": 120,
     "metadata": {},
     "output_type": "execute_result"
    }
   ],
   "source": [
    "#iterator types: one shot,initializable,re-initializable,feedable\n",
    "data = np.random.sample((100,2))\n",
    "data[0]"
   ]
  },
  {
   "cell_type": "code",
   "execution_count": 121,
   "metadata": {},
   "outputs": [
    {
     "name": "stdout",
     "output_type": "stream",
     "text": [
      "[0.47194225 0.00933356]\n"
     ]
    }
   ],
   "source": [
    "#Initializable Iterator\n",
    "\n",
    "x = tf.placeholder(tf.float32, shape=[None,2])\n",
    "dataset_it = tf.data.Dataset.from_tensor_slices(x)\n",
    "iter = dataset_it.make_initializable_iterator() # create the iterator\n",
    "el = iter.get_next()\n",
    "with tf.Session() as sess:\n",
    "    # feed the placeholder with data\n",
    "    sess.run(iter.initializer, feed_dict={ x: data }) \n",
    "    print(sess.run(el))"
   ]
  },
  {
   "cell_type": "raw",
   "metadata": {},
   "source": [
    "Reinitializable Iterator:The concept is similar to before, we want to dynamic switch between data. But instead of feed new data to the same dataset, we switch dataset. As before, we want to have a train dataset and a test dataset"
   ]
  },
  {
   "cell_type": "code",
   "execution_count": 122,
   "metadata": {},
   "outputs": [],
   "source": [
    "train_data = (np.random.sample((100,2)), np.random.sample((100,1)))\n",
    "test_data = (np.random.sample((10,2)), np.random.sample((10,1)))"
   ]
  },
  {
   "cell_type": "code",
   "execution_count": 123,
   "metadata": {},
   "outputs": [],
   "source": [
    "# create two datasets, one for training and one for test\n",
    "train_dataset = tf.data.Dataset.from_tensor_slices(train_data)\n",
    "test_dataset = tf.data.Dataset.from_tensor_slices(test_data)"
   ]
  },
  {
   "cell_type": "code",
   "execution_count": 124,
   "metadata": {},
   "outputs": [],
   "source": [
    "# create a iterator of the correct shape and type\n",
    "iter = tf.data.Iterator.from_structure(train_dataset.output_types,train_dataset.output_shapes)"
   ]
  },
  {
   "cell_type": "code",
   "execution_count": 125,
   "metadata": {},
   "outputs": [],
   "source": [
    "# create the initialisation operations\n",
    "train_init_op = iter.make_initializer(train_dataset)\n",
    "test_init_op = iter.make_initializer(test_dataset)"
   ]
  },
  {
   "cell_type": "code",
   "execution_count": 126,
   "metadata": {},
   "outputs": [],
   "source": [
    "features, labels = iter.get_next()"
   ]
  },
  {
   "cell_type": "code",
   "execution_count": 127,
   "metadata": {},
   "outputs": [
    {
     "name": "stdout",
     "output_type": "stream",
     "text": [
      "[array([0.90332682, 0.0697792 ]), array([0.54479065])]\n"
     ]
    }
   ],
   "source": [
    "# Reinitializable iterator to switch between Datasets\n",
    "EPOCHS = 10\n",
    "# making fake data using numpy\n",
    "train_data = (np.random.sample((100,2)), np.random.sample((100,1)))\n",
    "test_data = (np.random.sample((10,2)), np.random.sample((10,1)))\n",
    "# create two datasets, one for training and one for test\n",
    "train_dataset = tf.data.Dataset.from_tensor_slices(train_data)\n",
    "test_dataset = tf.data.Dataset.from_tensor_slices(test_data)\n",
    "# create a iterator of the correct shape and type\n",
    "iter = tf.data.Iterator.from_structure(train_dataset.output_types,\n",
    "                                           train_dataset.output_shapes)\n",
    "features, labels = iter.get_next()\n",
    "# create the initialisation operations\n",
    "train_init_op = iter.make_initializer(train_dataset)\n",
    "test_init_op = iter.make_initializer(test_dataset)\n",
    "with tf.Session() as sess:\n",
    "    sess.run(train_init_op) # switch to train dataset\n",
    "    for _ in range(EPOCHS):\n",
    "        sess.run([features, labels])\n",
    "    sess.run(test_init_op) # switch to val dataset\n",
    "    print(sess.run([features, labels]))"
   ]
  },
  {
   "cell_type": "code",
   "execution_count": null,
   "metadata": {},
   "outputs": [],
   "source": []
  }
 ],
 "metadata": {
  "kernelspec": {
   "display_name": "Python 3",
   "language": "python",
   "name": "python3"
  },
  "language_info": {
   "codemirror_mode": {
    "name": "ipython",
    "version": 3
   },
   "file_extension": ".py",
   "mimetype": "text/x-python",
   "name": "python",
   "nbconvert_exporter": "python",
   "pygments_lexer": "ipython3",
   "version": "3.6.0"
  }
 },
 "nbformat": 4,
 "nbformat_minor": 2
}
