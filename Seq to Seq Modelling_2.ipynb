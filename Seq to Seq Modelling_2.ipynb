{
 "cells": [
  {
   "cell_type": "code",
   "execution_count": 1,
   "metadata": {},
   "outputs": [],
   "source": [
    "import tensorflow as tf\n",
    "import numpy as np\n"
   ]
  },
  {
   "cell_type": "code",
   "execution_count": 2,
   "metadata": {},
   "outputs": [],
   "source": [
    "char=\"Hello\"\n",
    "chars=list(set(char))\n",
    "idx={c:i for i,c in enumerate(chars)}\n",
    "data=[idx[i] for i in char]"
   ]
  },
  {
   "cell_type": "code",
   "execution_count": 3,
   "metadata": {},
   "outputs": [],
   "source": [
    "#prakha\n",
    "\n",
    "x_train=data[:-1]\n",
    "\n"
   ]
  },
  {
   "cell_type": "code",
   "execution_count": 4,
   "metadata": {},
   "outputs": [],
   "source": [
    "y_train=data[1:]\n"
   ]
  },
  {
   "cell_type": "code",
   "execution_count": 5,
   "metadata": {},
   "outputs": [],
   "source": [
    "n_classes=len(chars)\n",
    "input_dim=len(chars)\n",
    "hiddeen_size=len(chars)\n",
    "time_steps=len(char)-1\n",
    "lr=0.1\n",
    "batch_size=1"
   ]
  },
  {
   "cell_type": "code",
   "execution_count": 6,
   "metadata": {},
   "outputs": [],
   "source": [
    "\n",
    "x=tf.placeholder(tf.int32,[None,time_steps])\n",
    "y=tf.placeholder(tf.int32,[None,time_steps])"
   ]
  },
  {
   "cell_type": "code",
   "execution_count": 7,
   "metadata": {},
   "outputs": [],
   "source": [
    "x_one_hot_encoded=tf.one_hot(x,len(chars))"
   ]
  },
  {
   "cell_type": "code",
   "execution_count": 8,
   "metadata": {},
   "outputs": [],
   "source": [
    "cell=tf.contrib.rnn.BasicLSTMCell(hiddeen_size)\n",
    "initial_state=cell.zero_state(batch_size,tf.float32)"
   ]
  },
  {
   "cell_type": "code",
   "execution_count": 9,
   "metadata": {},
   "outputs": [],
   "source": [
    "hiddent_state,cell_state=tf.nn.dynamic_rnn(cell,x_one_hot_encoded,initial_state=initial_state)"
   ]
  },
  {
   "cell_type": "code",
   "execution_count": 10,
   "metadata": {},
   "outputs": [],
   "source": [
    "#fully connected layer\n",
    "final_state=tf.reshape(hiddent_state,[-1,hiddeen_size])"
   ]
  },
  {
   "cell_type": "code",
   "execution_count": 11,
   "metadata": {},
   "outputs": [],
   "source": [
    "out=tf.contrib.layers.fully_connected(final_state,n_classes)"
   ]
  },
  {
   "cell_type": "code",
   "execution_count": 12,
   "metadata": {},
   "outputs": [],
   "source": [
    "outputs = tf.reshape(out, [batch_size, time_steps, n_classes])"
   ]
  },
  {
   "cell_type": "code",
   "execution_count": 13,
   "metadata": {},
   "outputs": [],
   "source": [
    "weights=tf.ones([batch_size,time_steps])"
   ]
  },
  {
   "cell_type": "code",
   "execution_count": 14,
   "metadata": {},
   "outputs": [],
   "source": [
    "loss=tf.contrib.seq2seq.sequence_loss(outputs,y,weights)"
   ]
  },
  {
   "cell_type": "code",
   "execution_count": 15,
   "metadata": {},
   "outputs": [],
   "source": [
    "lossses=tf.reduce_mean(loss)"
   ]
  },
  {
   "cell_type": "code",
   "execution_count": 16,
   "metadata": {},
   "outputs": [],
   "source": [
    "optimizer=tf.train.AdamOptimizer(lr).minimize(lossses)"
   ]
  },
  {
   "cell_type": "code",
   "execution_count": 17,
   "metadata": {},
   "outputs": [],
   "source": [
    "prediction=tf.argmax(outputs,2)"
   ]
  },
  {
   "cell_type": "code",
   "execution_count": 28,
   "metadata": {},
   "outputs": [
    {
     "name": "stdout",
     "output_type": "stream",
     "text": [
      "On epoch 0 with loss 1.3967504501342773 and result [[1 1 2 2]]\n",
      "result obtained is eell\n",
      "On epoch 1 with loss 1.3597253561019897 and result [[1 1 2 2]]\n",
      "result obtained is eell\n",
      "On epoch 2 with loss 1.3017574548721313 and result [[1 2 2 2]]\n",
      "result obtained is elll\n",
      "On epoch 3 with loss 1.2403864860534668 and result [[2 2 2 2]]\n",
      "result obtained is llll\n",
      "On epoch 4 with loss 1.175784945487976 and result [[2 2 2 2]]\n",
      "result obtained is llll\n",
      "On epoch 5 with loss 1.111680269241333 and result [[2 2 2 2]]\n",
      "result obtained is llll\n",
      "On epoch 6 with loss 1.0423495769500732 and result [[1 2 2 2]]\n",
      "result obtained is elll\n",
      "On epoch 7 with loss 0.9635680913925171 and result [[1 2 2 2]]\n",
      "result obtained is elll\n",
      "On epoch 8 with loss 0.8745099306106567 and result [[1 2 2 2]]\n",
      "result obtained is elll\n",
      "On epoch 9 with loss 0.7808331251144409 and result [[1 2 2 2]]\n",
      "result obtained is elll\n",
      "On epoch 10 with loss 0.6903562545776367 and result [[1 2 2 2]]\n",
      "result obtained is elll\n",
      "On epoch 11 with loss 0.6119835376739502 and result [[1 2 2 2]]\n",
      "result obtained is elll\n",
      "On epoch 12 with loss 0.5466001033782959 and result [[1 2 2 2]]\n",
      "result obtained is elll\n",
      "On epoch 13 with loss 0.4917278289794922 and result [[1 2 2 0]]\n",
      "result obtained is ellH\n",
      "On epoch 14 with loss 0.44519510865211487 and result [[1 2 2 2]]\n",
      "result obtained is elll\n",
      "On epoch 15 with loss 0.4155500531196594 and result [[1 2 2 0]]\n",
      "result obtained is ellH\n",
      "On epoch 16 with loss 0.3985998034477234 and result [[1 2 2 0]]\n",
      "result obtained is ellH\n",
      "On epoch 17 with loss 0.3828926086425781 and result [[1 2 2 0]]\n",
      "result obtained is ellH\n",
      "On epoch 18 with loss 0.37104296684265137 and result [[1 2 2 2]]\n",
      "result obtained is elll\n",
      "On epoch 19 with loss 0.38719916343688965 and result [[1 2 2 0]]\n",
      "result obtained is ellH\n",
      "On epoch 20 with loss 0.36199018359184265 and result [[1 2 2 0]]\n",
      "result obtained is ellH\n",
      "On epoch 21 with loss 0.36135438084602356 and result [[1 2 2 0]]\n",
      "result obtained is ellH\n",
      "On epoch 22 with loss 0.36115679144859314 and result [[1 2 2 0]]\n",
      "result obtained is ellH\n",
      "On epoch 23 with loss 0.36082395911216736 and result [[1 2 2 0]]\n",
      "result obtained is ellH\n",
      "On epoch 24 with loss 0.3598482310771942 and result [[1 2 2 0]]\n",
      "result obtained is ellH\n",
      "On epoch 25 with loss 0.3581286370754242 and result [[1 2 2 0]]\n",
      "result obtained is ellH\n",
      "On epoch 26 with loss 0.35602280497550964 and result [[1 2 2 0]]\n",
      "result obtained is ellH\n",
      "On epoch 27 with loss 0.35401156544685364 and result [[1 2 2 0]]\n",
      "result obtained is ellH\n",
      "On epoch 28 with loss 0.3523748517036438 and result [[1 2 2 0]]\n",
      "result obtained is ellH\n",
      "On epoch 29 with loss 0.35115543007850647 and result [[1 2 2 0]]\n",
      "result obtained is ellH\n",
      "On epoch 30 with loss 0.35027775168418884 and result [[1 2 2 0]]\n",
      "result obtained is ellH\n",
      "On epoch 31 with loss 0.34964635968208313 and result [[1 2 2 0]]\n",
      "result obtained is ellH\n",
      "On epoch 32 with loss 0.34918412566185 and result [[1 2 2 0]]\n",
      "result obtained is ellH\n",
      "On epoch 33 with loss 0.34883755445480347 and result [[1 2 2 0]]\n",
      "result obtained is ellH\n",
      "On epoch 34 with loss 0.3485710620880127 and result [[1 2 2 0]]\n",
      "result obtained is ellH\n",
      "On epoch 35 with loss 0.3483614921569824 and result [[1 2 2 0]]\n",
      "result obtained is ellH\n",
      "On epoch 36 with loss 0.3481931686401367 and result [[1 2 2 0]]\n",
      "result obtained is ellH\n",
      "On epoch 37 with loss 0.3480556905269623 and result [[1 2 2 0]]\n",
      "result obtained is ellH\n",
      "On epoch 38 with loss 0.34794166684150696 and result [[1 2 2 0]]\n",
      "result obtained is ellH\n",
      "On epoch 39 with loss 0.3478458821773529 and result [[1 2 2 0]]\n",
      "result obtained is ellH\n",
      "On epoch 40 with loss 0.3477644622325897 and result [[1 2 2 0]]\n",
      "result obtained is ellH\n",
      "On epoch 41 with loss 0.3476947247982025 and result [[1 2 2 0]]\n",
      "result obtained is ellH\n",
      "On epoch 42 with loss 0.34763431549072266 and result [[1 2 2 0]]\n",
      "result obtained is ellH\n",
      "On epoch 43 with loss 0.347581684589386 and result [[1 2 2 0]]\n",
      "result obtained is ellH\n",
      "On epoch 44 with loss 0.34753546118736267 and result [[1 2 2 0]]\n",
      "result obtained is ellH\n",
      "On epoch 45 with loss 0.3474947214126587 and result [[1 2 2 0]]\n",
      "result obtained is ellH\n",
      "On epoch 46 with loss 0.34745845198631287 and result [[1 2 2 0]]\n",
      "result obtained is ellH\n",
      "On epoch 47 with loss 0.3474261462688446 and result [[1 2 2 0]]\n",
      "result obtained is ellH\n",
      "On epoch 48 with loss 0.3473971486091614 and result [[1 2 2 0]]\n",
      "result obtained is ellH\n",
      "On epoch 49 with loss 0.34737104177474976 and result [[1 2 2 0]]\n",
      "result obtained is ellH\n",
      "On epoch 50 with loss 0.3473473787307739 and result [[1 2 2 0]]\n",
      "result obtained is ellH\n",
      "On epoch 51 with loss 0.34732598066329956 and result [[1 2 2 0]]\n",
      "result obtained is ellH\n",
      "On epoch 52 with loss 0.34730640053749084 and result [[1 2 2 0]]\n",
      "result obtained is ellH\n",
      "On epoch 53 with loss 0.3472885489463806 and result [[1 2 2 0]]\n",
      "result obtained is ellH\n",
      "On epoch 54 with loss 0.34727218747138977 and result [[1 2 2 0]]\n",
      "result obtained is ellH\n",
      "On epoch 55 with loss 0.3472570776939392 and result [[1 2 2 0]]\n",
      "result obtained is ellH\n",
      "On epoch 56 with loss 0.34724318981170654 and result [[1 2 2 0]]\n",
      "result obtained is ellH\n",
      "On epoch 57 with loss 0.3472302556037903 and result [[1 2 2 0]]\n",
      "result obtained is ellH\n",
      "On epoch 58 with loss 0.34721827507019043 and result [[1 2 2 0]]\n",
      "result obtained is ellH\n",
      "On epoch 59 with loss 0.34720709919929504 and result [[1 2 2 0]]\n",
      "result obtained is ellH\n",
      "On epoch 60 with loss 0.34719669818878174 and result [[1 2 2 0]]\n",
      "result obtained is ellH\n",
      "On epoch 61 with loss 0.34718695282936096 and result [[1 2 2 0]]\n",
      "result obtained is ellH\n",
      "On epoch 62 with loss 0.34717774391174316 and result [[1 2 2 0]]\n",
      "result obtained is ellH\n",
      "On epoch 63 with loss 0.3471691608428955 and result [[1 2 2 0]]\n",
      "result obtained is ellH\n",
      "On epoch 64 with loss 0.3471609950065613 and result [[1 2 2 0]]\n",
      "result obtained is ellH\n",
      "On epoch 65 with loss 0.34715330600738525 and result [[1 2 2 0]]\n",
      "result obtained is ellH\n",
      "On epoch 66 with loss 0.34714603424072266 and result [[1 2 2 0]]\n",
      "result obtained is ellH\n",
      "On epoch 67 with loss 0.3471391201019287 and result [[1 2 2 0]]\n",
      "result obtained is ellH\n",
      "On epoch 68 with loss 0.34713253378868103 and result [[1 2 2 0]]\n",
      "result obtained is ellH\n",
      "On epoch 69 with loss 0.34712621569633484 and result [[1 2 2 0]]\n",
      "result obtained is ellH\n",
      "On epoch 70 with loss 0.3471202254295349 and result [[1 2 2 0]]\n",
      "result obtained is ellH\n",
      "On epoch 71 with loss 0.3471144437789917 and result [[1 2 2 0]]\n",
      "result obtained is ellH\n",
      "On epoch 72 with loss 0.34710893034935 and result [[1 2 2 0]]\n",
      "result obtained is ellH\n",
      "On epoch 73 with loss 0.3471035957336426 and result [[1 2 2 0]]\n",
      "result obtained is ellH\n",
      "On epoch 74 with loss 0.3470984995365143 and result [[1 2 2 0]]\n",
      "result obtained is ellH\n",
      "On epoch 75 with loss 0.3470935523509979 and result [[1 2 2 0]]\n",
      "result obtained is ellH\n",
      "On epoch 76 with loss 0.3470887243747711 and result [[1 2 2 0]]\n",
      "result obtained is ellH\n",
      "On epoch 77 with loss 0.347084105014801 and result [[1 2 2 0]]\n",
      "result obtained is ellH\n",
      "On epoch 78 with loss 0.34707963466644287 and result [[1 2 2 0]]\n",
      "result obtained is ellH\n",
      "On epoch 79 with loss 0.34707531332969666 and result [[1 2 2 0]]\n",
      "result obtained is ellH\n",
      "On epoch 80 with loss 0.3470710813999176 and result [[1 2 2 0]]\n",
      "result obtained is ellH\n",
      "On epoch 81 with loss 0.3470669090747833 and result [[1 2 2 0]]\n",
      "result obtained is ellH\n",
      "On epoch 82 with loss 0.3470629155635834 and result [[1 2 2 0]]\n",
      "result obtained is ellH\n",
      "On epoch 83 with loss 0.3470590114593506 and result [[1 2 2 0]]\n",
      "result obtained is ellH\n",
      "On epoch 84 with loss 0.34705519676208496 and result [[1 2 2 0]]\n",
      "result obtained is ellH\n",
      "On epoch 85 with loss 0.3470514416694641 and result [[1 2 2 0]]\n",
      "result obtained is ellH\n",
      "On epoch 86 with loss 0.3470478057861328 and result [[1 2 2 0]]\n",
      "result obtained is ellH\n",
      "On epoch 87 with loss 0.3470441699028015 and result [[1 2 2 0]]\n",
      "result obtained is ellH\n",
      "On epoch 88 with loss 0.34704074263572693 and result [[1 2 2 0]]\n",
      "result obtained is ellH\n",
      "On epoch 89 with loss 0.34703728556632996 and result [[1 2 2 0]]\n",
      "result obtained is ellH\n",
      "On epoch 90 with loss 0.34703391790390015 and result [[1 2 2 0]]\n",
      "result obtained is ellH\n",
      "On epoch 91 with loss 0.3470305800437927 and result [[1 2 2 2]]\n",
      "result obtained is elll\n",
      "On epoch 92 with loss 0.3477126359939575 and result [[1 2 2 0]]\n",
      "result obtained is ellH\n",
      "On epoch 93 with loss 0.34708157181739807 and result [[1 2 2 0]]\n",
      "result obtained is ellH\n",
      "On epoch 94 with loss 0.3472156822681427 and result [[1 2 2 1]]\n",
      "result obtained is elle\n",
      "On epoch 95 with loss 0.4142971634864807 and result [[1 2 2 0]]\n",
      "result obtained is ellH\n",
      "On epoch 96 with loss 0.3477438688278198 and result [[1 2 2 0]]\n",
      "result obtained is ellH\n",
      "On epoch 97 with loss 0.34806686639785767 and result [[1 2 2 0]]\n",
      "result obtained is ellH\n",
      "On epoch 98 with loss 0.3487151265144348 and result [[1 2 2 0]]\n",
      "result obtained is ellH\n",
      "On epoch 99 with loss 0.3497295677661896 and result [[1 2 2 0]]\n",
      "result obtained is ellH\n"
     ]
    }
   ],
   "source": [
    "with tf.Session() as sess:\n",
    "    sess.run(tf.global_variables_initializer())\n",
    "    \n",
    "    for i in range(100):\n",
    "        \n",
    "        l,_=sess.run([lossses,optimizer],feed_dict={x:np.array(x_train).reshape(1,-1),y:np.array(y_train).reshape(1,-1)})\n",
    "        result=sess.run(prediction,feed_dict={x:np.array(x_train).reshape(1,-1)})\n",
    "        print(\"On epoch {} with loss {} and result {}\".format(i,l,result))\n",
    "        lis=[char[j] for j in np.squeeze(result)]\n",
    "        \n",
    "        cache=\"\".join(k for k in lis)\n",
    "        print(\"result obtained is {}\".format(cache))"
   ]
  },
  {
   "cell_type": "code",
   "execution_count": null,
   "metadata": {},
   "outputs": [],
   "source": []
  }
 ],
 "metadata": {
  "kernelspec": {
   "display_name": "Python 3",
   "language": "python",
   "name": "python3"
  },
  "language_info": {
   "codemirror_mode": {
    "name": "ipython",
    "version": 3
   },
   "file_extension": ".py",
   "mimetype": "text/x-python",
   "name": "python",
   "nbconvert_exporter": "python",
   "pygments_lexer": "ipython3",
   "version": "3.6.0"
  }
 },
 "nbformat": 4,
 "nbformat_minor": 2
}
