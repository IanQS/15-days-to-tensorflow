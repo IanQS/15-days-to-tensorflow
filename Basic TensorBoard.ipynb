{
 "cells": [
  {
   "cell_type": "code",
   "execution_count": 43,
   "metadata": {},
   "outputs": [],
   "source": [
    "import tensorflow as tf"
   ]
  },
  {
   "cell_type": "code",
   "execution_count": 44,
   "metadata": {},
   "outputs": [],
   "source": [
    "#To visualize the program with TensorBoard, we need to write log files of the program. \n",
    "#To write event files, we first need to create a writer for those logs, using this code:\n",
    "\n",
    "#writer = tf.summary.FileWriter([logdir], [graph])\n",
    "\n",
    "#[graph] is the graph of the program you are working on. You can either call it using tf.get_default_graph(), \n",
    "#which returns the default graph of the program, or through sess.graph,which returns the graph the session is handling.\n"
   ]
  },
  {
   "cell_type": "code",
   "execution_count": 45,
   "metadata": {},
   "outputs": [
    {
     "name": "stdout",
     "output_type": "stream",
     "text": [
      "7\n"
     ]
    }
   ],
   "source": [
    "a=tf.constant(2)\n",
    "b=tf.constant(5)\n",
    "c=tf.add(a,b)\n",
    "writer=tf.summary.FileWriter(\"./graphs\",tf.get_default_graph())\n",
    "with tf.Session() as sess:\n",
    "    print(sess.run(c))\n"
   ]
  },
  {
   "cell_type": "code",
   "execution_count": 46,
   "metadata": {},
   "outputs": [
    {
     "name": "stdout",
     "output_type": "stream",
     "text": [
      "[[1 1 1]\n",
      " [1 1 1]]\n",
      "\n",
      "\n",
      "[[0 0 0]\n",
      " [0 0 0]]\n",
      "\n",
      "\n",
      "[[8 8]]\n",
      "\n",
      "\n",
      "[1. 2. 3. 4. 5.]\n",
      "\n",
      "\n",
      "[10 12 14 16 18]\n",
      "\n",
      "\n"
     ]
    }
   ],
   "source": [
    "var=tf.ones([2,3],name=\"constant_const\",dtype=tf.int32)\n",
    "with tf.Session() as sess:\n",
    "    print(sess.run(var))\n",
    "    print(\"\\n\")\n",
    "    print(sess.run(tf.zeros_like(var))) #similarly tf.ones_like\n",
    "    print(\"\\n\")\n",
    "    print(sess.run(tf.fill((1,2),8)))   # tf.fill is to fill matrix with a number here it is 8\n",
    "    print(\"\\n\")\n",
    "    print(sess.run(tf.lin_space(1.0,5.0,5)))#linear spaced :np.linspace.Note that tensor objects are not iterable unlike numpy \n",
    "    print(\"\\n\")\n",
    "    print(sess.run(tf.range(start=10,limit=20,delta=2,dtype=tf.int32)))\n",
    "    print(\"\\n\")\n",
    "    #tf.random_normal,tf.truncated_normal,tf.random_uniform,tf.random_shuffle,tf.random_crop,tf.multinomial,tf.random_gamma,tf.set_random_seed\n",
    "    \n",
    "    "
   ]
  },
  {
   "cell_type": "code",
   "execution_count": 48,
   "metadata": {},
   "outputs": [],
   "source": [
    "a=tf.constant([[1,2,3],[4,5,6]])\n",
    "b=tf.constant([[4,5,6],[4,5,6]])"
   ]
  },
  {
   "cell_type": "code",
   "execution_count": 50,
   "metadata": {},
   "outputs": [
    {
     "name": "stdout",
     "output_type": "stream",
     "text": [
      "[[4 2 2]\n",
      " [1 1 1]]\n",
      "\n",
      "\n",
      "[[4.  2.5 2. ]\n",
      " [1.  1.  1. ]]\n"
     ]
    }
   ],
   "source": [
    "with tf.Session() as sess:\n",
    "    print(sess.run(tf.div(b,a)))\n",
    "    print(\"\\n\")\n",
    "    print(sess.run(tf.divide(b,a)))"
   ]
  },
  {
   "cell_type": "code",
   "execution_count": 51,
   "metadata": {},
   "outputs": [],
   "source": [
    "#tf.add_n Allows you to add multiple tensors.\n",
    "#tf.add_n([a, b, b])  => equivalent to a + b + b\n"
   ]
  },
  {
   "cell_type": "code",
   "execution_count": 59,
   "metadata": {},
   "outputs": [
    {
     "name": "stdout",
     "output_type": "stream",
     "text": [
      "30\n"
     ]
    }
   ],
   "source": [
    "with tf.Session() as sess:\n",
    "    print(sess.run(tf.add_n([4,5,6,7,8,])))"
   ]
  },
  {
   "cell_type": "code",
   "execution_count": 74,
   "metadata": {},
   "outputs": [
    {
     "name": "stdout",
     "output_type": "stream",
     "text": [
      "[20 60]\n",
      "\n",
      "\n",
      "[[20 30]\n",
      " [40 60]]\n",
      "\n",
      "\n",
      "[[6 6]\n",
      " [5 4]]\n"
     ]
    }
   ],
   "source": [
    "a = tf.constant([10, 20], name='a')\n",
    "b = tf.constant([2, 3], name='b')\n",
    "c=tf.constant([[2,2],[2,1]])\n",
    "d=tf.constant([[2,1],[1,2]])\n",
    "with tf.Session() as sess:\n",
    "    print(sess.run(tf.multiply(a, b)))\n",
    "    print(\"\\n\")\n",
    "    print(sess.run(tf.tensordot(a, b, 0)))\n",
    "    print(\"\\n\")\n",
    "    print(sess.run(tf.matmul(c, d)))\n",
    " \n",
    "    "
   ]
  },
  {
   "cell_type": "code",
   "execution_count": null,
   "metadata": {},
   "outputs": [],
   "source": [
    "#to see graph definition in tensorflow \n",
    "print(tf.get_default_graph().as_graph_def())"
   ]
  },
  {
   "cell_type": "code",
   "execution_count": 78,
   "metadata": {},
   "outputs": [],
   "source": [
    "#tf.Variable ops\n",
    "\n",
    "#x = tf.Variable(...) \n",
    "#x.initializer # init \n",
    "#x.value() # read op \n",
    "#x.assign(...) # write op \n",
    "#x.assign_add(...) \n",
    "# and more\n"
   ]
  },
  {
   "cell_type": "raw",
   "metadata": {},
   "source": [
    "Recommended way to define dvariable is\n",
    "\n",
    "\n",
    "tf.get_variable(\n",
    "    name,\n",
    "    shape=None,\n",
    "    dtype=None,\n",
    "    initializer=None,\n",
    "    regularizer=None,\n",
    "    trainable=True,\n",
    "    collections=None,\n",
    "    caching_device=None,\n",
    "    partitioner=None,\n",
    "    validate_shape=True,\n",
    "    use_resource=None,\n",
    "    custom_getter=None,\n",
    "    constraint=None\n",
    ")\n"
   ]
  },
  {
   "cell_type": "code",
   "execution_count": 83,
   "metadata": {},
   "outputs": [],
   "source": [
    "#Example first\n",
    "first_tf_get_variable = tf.get_variable(\"matrix\", initializer=tf.Variable([[0, 1], [2, 3]]))"
   ]
  },
  {
   "cell_type": "code",
   "execution_count": 92,
   "metadata": {},
   "outputs": [],
   "source": [
    "#Example second\n",
    "second_tf_get_variable = tf.get_variable(\"vari\", initializer=tf.random_uniform(shape=[2,3]))"
   ]
  },
  {
   "cell_type": "code",
   "execution_count": 98,
   "metadata": {},
   "outputs": [],
   "source": [
    "#Example Third\n",
    "W = tf.get_variable(\"big_mtrix\", shape=(784, 10), initializer=tf.zeros_initializer())\n"
   ]
  },
  {
   "cell_type": "code",
   "execution_count": 99,
   "metadata": {},
   "outputs": [
    {
     "name": "stdout",
     "output_type": "stream",
     "text": [
      "[b'Variable' b'matrix' b'var' b'vari' b'big_matrix' b'big_matrixx'\n",
      " b'big_mtrix']\n"
     ]
    }
   ],
   "source": [
    "#To get a list of uninitialized variables, you can just print them out:\n",
    "with tf.Session() as sess:\n",
    "    print(sess.run(tf.report_uninitialized_variables()))\n"
   ]
  },
  {
   "cell_type": "code",
   "execution_count": 100,
   "metadata": {},
   "outputs": [],
   "source": [
    "init_op=tf.global_variables_initializer()"
   ]
  },
  {
   "cell_type": "code",
   "execution_count": 101,
   "metadata": {},
   "outputs": [
    {
     "name": "stdout",
     "output_type": "stream",
     "text": [
      "[]\n"
     ]
    }
   ],
   "source": [
    "with tf.Session() as sess:\n",
    "    sess.run(init_op)\n",
    "    print(sess.run(tf.report_uninitialized_variables()))"
   ]
  },
  {
   "cell_type": "code",
   "execution_count": 103,
   "metadata": {},
   "outputs": [],
   "source": [
    "#To initialize only a subset of variables, you use tf.variables_initializer() with a list of variables you want to initialize\n",
    "new_var=tf.get_variable(name=\"new\",shape=(2,2),initializer=tf.zeros_initializer())\n"
   ]
  },
  {
   "cell_type": "code",
   "execution_count": 106,
   "metadata": {},
   "outputs": [
    {
     "name": "stdout",
     "output_type": "stream",
     "text": [
      "[b'Variable' b'matrix' b'var' b'vari' b'big_matrix' b'big_matrixx'\n",
      " b'big_mtrix' b'new']\n",
      "[b'Variable' b'var' b'big_matrix' b'big_matrixx' b'big_mtrix']\n"
     ]
    }
   ],
   "source": [
    "with tf.Session() as sess:\n",
    "    print(sess.run(tf.report_uninitialized_variables()))\n",
    "    sess.run(tf.variables_initializer([new_var,first_tf_get_variable,second_tf_get_variable]))\n",
    "    print(sess.run(tf.report_uninitialized_variables()))"
   ]
  },
  {
   "cell_type": "code",
   "execution_count": 107,
   "metadata": {},
   "outputs": [],
   "source": [
    "#We can also initialize each variable separately using tf.Variable.initializer\n",
    "#with tf.Session() as sess:\n",
    "#    sess.run(W.initializer)\n"
   ]
  },
  {
   "cell_type": "code",
   "execution_count": 108,
   "metadata": {},
   "outputs": [
    {
     "name": "stdout",
     "output_type": "stream",
     "text": [
      "[[0.01564419 0.07106733 0.80666053 ... 0.47924352 0.97808087 0.02599919]\n",
      " [0.52810717 0.93668973 0.46536958 ... 0.8735168  0.65683794 0.2373724 ]\n",
      " [0.62644875 0.16724753 0.18982446 ... 0.30773675 0.10423744 0.35893643]\n",
      " ...\n",
      " [0.7441596  0.17312956 0.02256322 ... 0.5300069  0.38365793 0.76768935]\n",
      " [0.45346284 0.06405807 0.0785979  ... 0.49552143 0.21325457 0.7857413 ]\n",
      " [0.98488307 0.97198486 0.32325947 ... 0.94202924 0.3384341  0.69374466]]\n"
     ]
    }
   ],
   "source": [
    "V = tf.get_variable(\"normal_matrix\", shape=(784, 10), initializer=tf.random_uniform_initializer())\n",
    "\n",
    "with tf.Session() as sess:\n",
    "    sess.run(tf.global_variables_initializer())\n",
    "    print(sess.run(V))\n"
   ]
  },
  {
   "cell_type": "code",
   "execution_count": 110,
   "metadata": {},
   "outputs": [
    {
     "name": "stdout",
     "output_type": "stream",
     "text": [
      "[[0.36406457 0.44060302 0.45653558 ... 0.5190283  0.2931583  0.60079753]\n",
      " [0.6549885  0.05518162 0.83674586 ... 0.43239033 0.15312624 0.02872181]\n",
      " [0.6693021  0.38864017 0.5763912  ... 0.9044485  0.47503376 0.8031801 ]\n",
      " ...\n",
      " [0.68565536 0.35188198 0.16196132 ... 0.3901304  0.14641225 0.22309864]\n",
      " [0.69625795 0.989288   0.81727004 ... 0.4551158  0.18005717 0.2927742 ]\n",
      " [0.54394424 0.3429377  0.21290302 ... 0.825014   0.39532375 0.20259047]]\n"
     ]
    }
   ],
   "source": [
    "with tf.Session() as sess:\n",
    "    sess.run(tf.global_variables_initializer())\n",
    "    print(V.eval()) #can be used \n"
   ]
  },
  {
   "cell_type": "code",
   "execution_count": 111,
   "metadata": {},
   "outputs": [
    {
     "name": "stdout",
     "output_type": "stream",
     "text": [
      "10\n"
     ]
    }
   ],
   "source": [
    "#Assign value to variables\n",
    "\n",
    "\n",
    "W = tf.Variable(10)\n",
    "W.assign(100)\n",
    "with tf.Session() as sess:\n",
    "    sess.run(W.initializer)\n",
    "    print(W.eval()) \n"
   ]
  },
  {
   "cell_type": "code",
   "execution_count": 112,
   "metadata": {},
   "outputs": [],
   "source": [
    "# W.assign(100) doesn't assign the value 100 to W, but instead create an assign op to do that.\n",
    "#For this op to take effect, we have to run this op in session. "
   ]
  },
  {
   "cell_type": "code",
   "execution_count": 113,
   "metadata": {},
   "outputs": [
    {
     "name": "stdout",
     "output_type": "stream",
     "text": [
      "100\n"
     ]
    }
   ],
   "source": [
    "W = tf.Variable(10)\n",
    "\n",
    "assign_op = W.assign(100)\n",
    "with tf.Session() as sess:\n",
    "    sess.run(assign_op)\n",
    "    print(W.eval()) "
   ]
  },
  {
   "cell_type": "code",
   "execution_count": 116,
   "metadata": {},
   "outputs": [],
   "source": [
    "#When we have a variable that depends on another variable, suppose we want to declare U = W *2\n",
    "\n",
    "W = tf.Variable(tf.truncated_normal([700, 10]))\n",
    "U = tf.Variable(W * 2)\n",
    "\n",
    "U = tf.Variable(W.initialized_value()* 2)\n"
   ]
  },
  {
   "cell_type": "code",
   "execution_count": 117,
   "metadata": {},
   "outputs": [],
   "source": [
    "#Interactive Session"
   ]
  },
  {
   "cell_type": "code",
   "execution_count": 122,
   "metadata": {},
   "outputs": [],
   "source": [
    "sess = tf.InteractiveSession()\n"
   ]
  },
  {
   "cell_type": "code",
   "execution_count": 123,
   "metadata": {},
   "outputs": [],
   "source": [
    "a = tf.constant(3)\n",
    "b = tf.constant(5)\n",
    "c = a * b\n"
   ]
  },
  {
   "cell_type": "code",
   "execution_count": 124,
   "metadata": {},
   "outputs": [
    {
     "name": "stdout",
     "output_type": "stream",
     "text": [
      "15\n"
     ]
    }
   ],
   "source": [
    "print(c.eval()) \n",
    "\n"
   ]
  },
  {
   "cell_type": "code",
   "execution_count": 125,
   "metadata": {},
   "outputs": [],
   "source": [
    "sess.close()"
   ]
  },
  {
   "cell_type": "code",
   "execution_count": 127,
   "metadata": {},
   "outputs": [],
   "source": [
    "#tf.get_default_session() returns the default session for the current thread. The returned Session will be the innermost \n",
    "#session on which a Session or Session.as_default() context has been entered."
   ]
  },
  {
   "cell_type": "code",
   "execution_count": 131,
   "metadata": {},
   "outputs": [],
   "source": [
    "#Control Dependencies"
   ]
  },
  {
   "cell_type": "code",
   "execution_count": 132,
   "metadata": {},
   "outputs": [],
   "source": [
    "#Sometimes, we have two or more independent ops and we'd like to specify which ops should be run first. \n",
    "#In this case, we use tf.Graph.control_dependencies([control_inputs])."
   ]
  },
  {
   "cell_type": "code",
   "execution_count": 135,
   "metadata": {},
   "outputs": [],
   "source": [
    "# our graph g have 5 ops: a, b, c, d, e\n",
    "#with g.control_dependencies([a, b, c]):\n",
    "  # `d` and `e` will only run after `a`, `b`, and `c` have executed.\n",
    "  #d = ...\n",
    "  #e = …\n"
   ]
  },
  {
   "cell_type": "code",
   "execution_count": 165,
   "metadata": {},
   "outputs": [],
   "source": [
    "a=tf.placeholder(tf.int32,shape=(5),name=\"first\")"
   ]
  },
  {
   "cell_type": "code",
   "execution_count": 166,
   "metadata": {},
   "outputs": [],
   "source": [
    "b=tf.constant([8,7,6,5,4])"
   ]
  },
  {
   "cell_type": "code",
   "execution_count": 167,
   "metadata": {},
   "outputs": [],
   "source": [
    "c=tf.add(a,b)"
   ]
  },
  {
   "cell_type": "code",
   "execution_count": 168,
   "metadata": {},
   "outputs": [
    {
     "name": "stdout",
     "output_type": "stream",
     "text": [
      "[9 9 9 9 9]\n"
     ]
    }
   ],
   "source": [
    "with tf.Session() as sess:\n",
    "    print(sess.run(c,feed_dict={a:[1,2,3,4,5]}))"
   ]
  },
  {
   "cell_type": "code",
   "execution_count": 169,
   "metadata": {},
   "outputs": [],
   "source": [
    "# To check if a tensor is feedable or not, use:\n",
    "\n",
    "#tf.Graph.is_feedable(tensor)\n"
   ]
  },
  {
   "cell_type": "code",
   "execution_count": null,
   "metadata": {},
   "outputs": [],
   "source": []
  }
 ],
 "metadata": {
  "kernelspec": {
   "display_name": "Python 3",
   "language": "python",
   "name": "python3"
  },
  "language_info": {
   "codemirror_mode": {
    "name": "ipython",
    "version": 3
   },
   "file_extension": ".py",
   "mimetype": "text/x-python",
   "name": "python",
   "nbconvert_exporter": "python",
   "pygments_lexer": "ipython3",
   "version": "3.6.0"
  }
 },
 "nbformat": 4,
 "nbformat_minor": 2
}
