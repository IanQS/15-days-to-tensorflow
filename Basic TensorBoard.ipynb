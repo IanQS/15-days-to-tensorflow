{
 "cells": [
  {
   "cell_type": "code",
   "execution_count": 43,
   "metadata": {},
   "outputs": [],
   "source": [
    "import tensorflow as tf"
   ]
  },
  {
   "cell_type": "code",
   "execution_count": 44,
   "metadata": {},
   "outputs": [],
   "source": [
    "#To visualize the program with TensorBoard, we need to write log files of the program. \n",
    "#To write event files, we first need to create a writer for those logs, using this code:\n",
    "\n",
    "#writer = tf.summary.FileWriter([logdir], [graph])\n",
    "\n",
    "#[graph] is the graph of the program you are working on. You can either call it using tf.get_default_graph(), \n",
    "#which returns the default graph of the program, or through sess.graph,which returns the graph the session is handling.\n"
   ]
  },
  {
   "cell_type": "code",
   "execution_count": 45,
   "metadata": {},
   "outputs": [
    {
     "name": "stdout",
     "output_type": "stream",
     "text": [
      "7\n"
     ]
    }
   ],
   "source": [
    "a=tf.constant(2)\n",
    "b=tf.constant(5)\n",
    "c=tf.add(a,b)\n",
    "writer=tf.summary.FileWriter(\"./graphs\",tf.get_default_graph())\n",
    "with tf.Session() as sess:\n",
    "    print(sess.run(c))\n"
   ]
  },
  {
   "cell_type": "code",
   "execution_count": 46,
   "metadata": {},
   "outputs": [
    {
     "name": "stdout",
     "output_type": "stream",
     "text": [
      "[[1 1 1]\n",
      " [1 1 1]]\n",
      "\n",
      "\n",
      "[[0 0 0]\n",
      " [0 0 0]]\n",
      "\n",
      "\n",
      "[[8 8]]\n",
      "\n",
      "\n",
      "[1. 2. 3. 4. 5.]\n",
      "\n",
      "\n",
      "[10 12 14 16 18]\n",
      "\n",
      "\n"
     ]
    }
   ],
   "source": [
    "var=tf.ones([2,3],name=\"constant_const\",dtype=tf.int32)\n",
    "with tf.Session() as sess:\n",
    "    print(sess.run(var))\n",
    "    print(\"\\n\")\n",
    "    print(sess.run(tf.zeros_like(var))) #similarly tf.ones_like\n",
    "    print(\"\\n\")\n",
    "    print(sess.run(tf.fill((1,2),8)))   # tf.fill is to fill matrix with a number here it is 8\n",
    "    print(\"\\n\")\n",
    "    print(sess.run(tf.lin_space(1.0,5.0,5)))#linear spaced :np.linspace.Note that tensor objects are not iterable unlike numpy \n",
    "    print(\"\\n\")\n",
    "    print(sess.run(tf.range(start=10,limit=20,delta=2,dtype=tf.int32)))\n",
    "    print(\"\\n\")\n",
    "    #tf.random_normal,tf.truncated_normal,tf.random_uniform,tf.random_shuffle,tf.random_crop,tf.multinomial,tf.random_gamma,tf.set_random_seed\n",
    "    \n",
    "    "
   ]
  },
  {
   "cell_type": "code",
   "execution_count": 48,
   "metadata": {},
   "outputs": [],
   "source": [
    "a=tf.constant([[1,2,3],[4,5,6]])\n",
    "b=tf.constant([[4,5,6],[4,5,6]])"
   ]
  },
  {
   "cell_type": "code",
   "execution_count": 50,
   "metadata": {},
   "outputs": [
    {
     "name": "stdout",
     "output_type": "stream",
     "text": [
      "[[4 2 2]\n",
      " [1 1 1]]\n",
      "\n",
      "\n",
      "[[4.  2.5 2. ]\n",
      " [1.  1.  1. ]]\n"
     ]
    }
   ],
   "source": [
    "with tf.Session() as sess:\n",
    "    print(sess.run(tf.div(b,a)))\n",
    "    print(\"\\n\")\n",
    "    print(sess.run(tf.divide(b,a)))"
   ]
  },
  {
   "cell_type": "code",
   "execution_count": 51,
   "metadata": {},
   "outputs": [],
   "source": [
    "#tf.add_n Allows you to add multiple tensors.\n",
    "#tf.add_n([a, b, b])  => equivalent to a + b + b\n"
   ]
  },
  {
   "cell_type": "code",
   "execution_count": 59,
   "metadata": {},
   "outputs": [
    {
     "name": "stdout",
     "output_type": "stream",
     "text": [
      "30\n"
     ]
    }
   ],
   "source": [
    "with tf.Session() as sess:\n",
    "    print(sess.run(tf.add_n([4,5,6,7,8,])))"
   ]
  },
  {
   "cell_type": "code",
   "execution_count": 74,
   "metadata": {},
   "outputs": [
    {
     "name": "stdout",
     "output_type": "stream",
     "text": [
      "[20 60]\n",
      "\n",
      "\n",
      "[[20 30]\n",
      " [40 60]]\n",
      "\n",
      "\n",
      "[[6 6]\n",
      " [5 4]]\n"
     ]
    }
   ],
   "source": [
    "a = tf.constant([10, 20], name='a')\n",
    "b = tf.constant([2, 3], name='b')\n",
    "c=tf.constant([[2,2],[2,1]])\n",
    "d=tf.constant([[2,1],[1,2]])\n",
    "with tf.Session() as sess:\n",
    "    print(sess.run(tf.multiply(a, b)))\n",
    "    print(\"\\n\")\n",
    "    print(sess.run(tf.tensordot(a, b, 0)))\n",
    "    print(\"\\n\")\n",
    "    print(sess.run(tf.matmul(c, d)))\n",
    " \n",
    "    "
   ]
  },
  {
   "cell_type": "code",
   "execution_count": null,
   "metadata": {},
   "outputs": [],
   "source": [
    "#to see graph definition in tensorflow \n",
    "print(tf.get_default_graph().as_graph_def())"
   ]
  },
  {
   "cell_type": "code",
   "execution_count": 78,
   "metadata": {},
   "outputs": [],
   "source": [
    "#tf.Variable ops\n",
    "\n",
    "#x = tf.Variable(...) \n",
    "#x.initializer # init \n",
    "#x.value() # read op \n",
    "#x.assign(...) # write op \n",
    "#x.assign_add(...) \n",
    "# and more\n"
   ]
  },
  {
   "cell_type": "raw",
   "metadata": {},
   "source": [
    "Recommended way to define dvariable is\n",
    "\n",
    "\n",
    "tf.get_variable(\n",
    "    name,\n",
    "    shape=None,\n",
    "    dtype=None,\n",
    "    initializer=None,\n",
    "    regularizer=None,\n",
    "    trainable=True,\n",
    "    collections=None,\n",
    "    caching_device=None,\n",
    "    partitioner=None,\n",
    "    validate_shape=True,\n",
    "    use_resource=None,\n",
    "    custom_getter=None,\n",
    "    constraint=None\n",
    ")\n"
   ]
  },
  {
   "cell_type": "code",
   "execution_count": 83,
   "metadata": {},
   "outputs": [],
   "source": [
    "#Example first\n",
    "first_tf_get_variable = tf.get_variable(\"matrix\", initializer=tf.Variable([[0, 1], [2, 3]]))"
   ]
  },
  {
   "cell_type": "code",
   "execution_count": 92,
   "metadata": {},
   "outputs": [],
   "source": [
    "#Example second\n",
    "second_tf_get_variable = tf.get_variable(\"vari\", initializer=tf.random_uniform(shape=[2,3]))"
   ]
  },
  {
   "cell_type": "code",
   "execution_count": 98,
   "metadata": {},
   "outputs": [],
   "source": [
    "#Example Third\n",
    "W = tf.get_variable(\"big_mtrix\", shape=(784, 10), initializer=tf.zeros_initializer())\n"
   ]
  },
  {
   "cell_type": "code",
   "execution_count": 99,
   "metadata": {},
   "outputs": [
    {
     "name": "stdout",
     "output_type": "stream",
     "text": [
      "[b'Variable' b'matrix' b'var' b'vari' b'big_matrix' b'big_matrixx'\n",
      " b'big_mtrix']\n"
     ]
    }
   ],
   "source": [
    "#To get a list of uninitialized variables, you can just print them out:\n",
    "with tf.Session() as sess:\n",
    "    print(sess.run(tf.report_uninitialized_variables()))\n"
   ]
  },
  {
   "cell_type": "code",
   "execution_count": 100,
   "metadata": {},
   "outputs": [],
   "source": [
    "init_op=tf.global_variables_initializer()"
   ]
  },
  {
   "cell_type": "code",
   "execution_count": 101,
   "metadata": {},
   "outputs": [
    {
     "name": "stdout",
     "output_type": "stream",
     "text": [
      "[]\n"
     ]
    }
   ],
   "source": [
    "with tf.Session() as sess:\n",
    "    sess.run(init_op)\n",
    "    print(sess.run(tf.report_uninitialized_variables()))"
   ]
  },
  {
   "cell_type": "code",
   "execution_count": 103,
   "metadata": {},
   "outputs": [],
   "source": [
    "#To initialize only a subset of variables, you use tf.variables_initializer() with a list of variables you want to initialize\n",
    "new_var=tf.get_variable(name=\"new\",shape=(2,2),initializer=tf.zeros_initializer())\n"
   ]
  },
  {
   "cell_type": "code",
   "execution_count": 106,
   "metadata": {},
   "outputs": [
    {
     "name": "stdout",
     "output_type": "stream",
     "text": [
      "[b'Variable' b'matrix' b'var' b'vari' b'big_matrix' b'big_matrixx'\n",
      " b'big_mtrix' b'new']\n",
      "[b'Variable' b'var' b'big_matrix' b'big_matrixx' b'big_mtrix']\n"
     ]
    }
   ],
   "source": [
    "with tf.Session() as sess:\n",
    "    print(sess.run(tf.report_uninitialized_variables()))\n",
    "    sess.run(tf.variables_initializer([new_var,first_tf_get_variable,second_tf_get_variable]))\n",
    "    print(sess.run(tf.report_uninitialized_variables()))"
   ]
  },
  {
   "cell_type": "code",
   "execution_count": null,
   "metadata": {},
   "outputs": [],
   "source": []
  }
 ],
 "metadata": {
  "kernelspec": {
   "display_name": "Python 3",
   "language": "python",
   "name": "python3"
  },
  "language_info": {
   "codemirror_mode": {
    "name": "ipython",
    "version": 3
   },
   "file_extension": ".py",
   "mimetype": "text/x-python",
   "name": "python",
   "nbconvert_exporter": "python",
   "pygments_lexer": "ipython3",
   "version": "3.6.0"
  }
 },
 "nbformat": 4,
 "nbformat_minor": 2
}
