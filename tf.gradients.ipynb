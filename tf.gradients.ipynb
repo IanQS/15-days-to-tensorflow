{
 "cells": [
  {
   "cell_type": "code",
   "execution_count": 2,
   "metadata": {},
   "outputs": [
    {
     "name": "stdout",
     "output_type": "stream",
     "text": [
      "Extracting /tmp/data\\train-images-idx3-ubyte.gz\n",
      "Extracting /tmp/data\\train-labels-idx1-ubyte.gz\n",
      "Extracting /tmp/data\\t10k-images-idx3-ubyte.gz\n",
      "Extracting /tmp/data\\t10k-labels-idx1-ubyte.gz\n"
     ]
    }
   ],
   "source": [
    "import tensorflow as tf\n",
    "from tensorflow.examples.tutorials.mnist import input_data\n",
    "mnist_data=input_data.read_data_sets(\"/tmp/data\",one_hot=True)\n",
    "total=mnist_data.train.num_examples"
   ]
  },
  {
   "cell_type": "code",
   "execution_count": 3,
   "metadata": {},
   "outputs": [],
   "source": [
    "#placeholders\n",
    "\n",
    "image=tf.placeholder(tf.float32,[None,784])\n",
    "label=tf.placeholder(tf.float32,[None,10])"
   ]
  },
  {
   "cell_type": "code",
   "execution_count": 4,
   "metadata": {},
   "outputs": [
    {
     "name": "stdout",
     "output_type": "stream",
     "text": [
      "Epoch 0 completed with loss 4.337946747988464\n",
      "Epoch 1 completed with loss 2.0860678091645237\n",
      "Epoch 2 completed with loss 1.7856089671452866\n",
      "Epoch 3 completed with loss 1.639306358620525\n",
      "Epoch 4 completed with loss 1.5457957964390519\n",
      "Epoch 5 completed with loss 1.477652179946502\n",
      "Epoch 6 completed with loss 1.430342815692226\n",
      "Epoch 7 completed with loss 1.3896557627866655\n",
      "Epoch 8 completed with loss 1.3581175199399387\n",
      "Epoch 9 completed with loss 1.3302506089210506\n",
      "Epoch 10 completed with loss 1.3086857980738076\n",
      "Epoch 11 completed with loss 1.2815264176577326\n",
      "Epoch 12 completed with loss 1.2741335916022443\n",
      "Epoch 13 completed with loss 1.2567970667034387\n",
      "Epoch 14 completed with loss 1.2343461504826936\n",
      "Epoch 15 completed with loss 1.2284287868067623\n",
      "Epoch 16 completed with loss 1.216491439441841\n",
      "Epoch 17 completed with loss 1.2033861519147948\n",
      "Epoch 18 completed with loss 1.1939073586215565\n",
      "Epoch 19 completed with loss 1.1921869722505403\n",
      "Accuracy of test set is 0.8865000009536743\n"
     ]
    }
   ],
   "source": [
    "#calculating using tf.gradients\n",
    "\n",
    "#weights\n",
    "\n",
    "w=tf.get_variable(name=\"weights\",shape=[784,10],initializer=tf.random_uniform_initializer())\n",
    "b=tf.get_variable(name=\"bias\",shape=[10],initializer=tf.random_uniform_initializer())\n",
    "\n",
    "#regression\n",
    "activate=tf.nn.softmax(tf.add(tf.matmul(image,w),b))\n",
    "\n",
    "#loss\n",
    "cost=tf.reduce_mean(-tf.reduce_sum(label*tf.log(activate),reduction_indices=1))\n",
    "\n",
    "grad_w,grad_b=tf.gradients(ys=cost,xs=[w,b])\n",
    "\n",
    "new_w=w.assign(w-0.05*grad_w)\n",
    "new_b=b.assign(b-0.05*grad_b)\n",
    "\n",
    "\n",
    "batch_size=120\n",
    "with tf.Session() as sess:\n",
    "    sess.run(tf.global_variables_initializer())\n",
    "    for i in range(20):\n",
    "        avg_loss=0\n",
    "        for j in range(int(total/batch_size)):\n",
    "            x,y=mnist_data.train.next_batch(batch_size=batch_size)\n",
    "        \n",
    "   \n",
    "            _,_,losses=sess.run([new_w,new_b,cost],feed_dict={image:x,label:y})\n",
    "            avg_loss+=losses/batch_size\n",
    "        print(\"Epoch {} completed with loss {}\".format(i,avg_loss))\n",
    "    \n",
    "    \n",
    "    correct=tf.equal(tf.argmax(activate,1),tf.argmax(label,1))\n",
    "    accuracy=tf.reduce_mean(tf.cast(correct,tf.float32))\n",
    "    re=sess.run(accuracy,feed_dict={image:mnist_data.test.images[:2000],label:mnist_data.test.labels[:2000]})\n",
    "    print(\"Accuracy of test set is {}\".format(re))\n",
    "\n",
    "\n",
    "\n",
    "\n",
    "\n",
    "\n",
    "\n",
    "\n",
    "\n"
   ]
  },
  {
   "cell_type": "code",
   "execution_count": null,
   "metadata": {},
   "outputs": [],
   "source": []
  }
 ],
 "metadata": {
  "kernelspec": {
   "display_name": "Python 3",
   "language": "python",
   "name": "python3"
  },
  "language_info": {
   "codemirror_mode": {
    "name": "ipython",
    "version": 3
   },
   "file_extension": ".py",
   "mimetype": "text/x-python",
   "name": "python",
   "nbconvert_exporter": "python",
   "pygments_lexer": "ipython3",
   "version": "3.6.0"
  }
 },
 "nbformat": 4,
 "nbformat_minor": 2
}
