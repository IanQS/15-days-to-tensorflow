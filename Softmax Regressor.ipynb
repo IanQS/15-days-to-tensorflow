{
 "cells": [
  {
   "cell_type": "code",
   "execution_count": 1,
   "metadata": {},
   "outputs": [],
   "source": [
    "import tensorflow as tf"
   ]
  },
  {
   "cell_type": "code",
   "execution_count": 2,
   "metadata": {},
   "outputs": [],
   "source": [
    "from tensorflow.examples.tutorials.mnist import input_data"
   ]
  },
  {
   "cell_type": "code",
   "execution_count": 4,
   "metadata": {},
   "outputs": [
    {
     "name": "stdout",
     "output_type": "stream",
     "text": [
      "Extracting /tmp/data\\train-images-idx3-ubyte.gz\n",
      "Extracting /tmp/data\\train-labels-idx1-ubyte.gz\n",
      "Extracting /tmp/data\\t10k-images-idx3-ubyte.gz\n",
      "Extracting /tmp/data\\t10k-labels-idx1-ubyte.gz\n"
     ]
    }
   ],
   "source": [
    "mnist_data=input_data.read_data_sets(\"/tmp/data\",one_hot=True)"
   ]
  },
  {
   "cell_type": "code",
   "execution_count": 5,
   "metadata": {},
   "outputs": [
    {
     "name": "stdout",
     "output_type": "stream",
     "text": [
      "55000\n"
     ]
    }
   ],
   "source": [
    "total=mnist_data.train.num_examples\n",
    "print(total)"
   ]
  },
  {
   "cell_type": "code",
   "execution_count": 6,
   "metadata": {},
   "outputs": [],
   "source": [
    "#placeholders\n",
    "\n",
    "image=tf.placeholder(tf.float32,[None,784])\n",
    "label=tf.placeholder(tf.float32,[None,10])"
   ]
  },
  {
   "cell_type": "code",
   "execution_count": 7,
   "metadata": {},
   "outputs": [],
   "source": [
    "#weights\n",
    "\n",
    "w=tf.get_variable(name=\"weights\",shape=[784,10],initializer=tf.random_uniform_initializer())\n",
    "b=tf.get_variable(name=\"bias\",shape=[10],initializer=tf.random_uniform_initializer())"
   ]
  },
  {
   "cell_type": "code",
   "execution_count": 8,
   "metadata": {},
   "outputs": [],
   "source": [
    "#regression\n",
    "activate=tf.nn.softmax(tf.add(tf.matmul(image,w),b))"
   ]
  },
  {
   "cell_type": "code",
   "execution_count": 9,
   "metadata": {},
   "outputs": [],
   "source": [
    "#loss\n",
    "cost=tf.reduce_mean(-tf.reduce_sum(label*tf.log(activate),reduction_indices=1))"
   ]
  },
  {
   "cell_type": "code",
   "execution_count": 10,
   "metadata": {},
   "outputs": [],
   "source": [
    "#optimizer\n",
    "optimizer=tf.train.GradientDescentOptimizer(0.05).minimize(cost)"
   ]
  },
  {
   "cell_type": "code",
   "execution_count": 11,
   "metadata": {},
   "outputs": [
    {
     "name": "stdout",
     "output_type": "stream",
     "text": [
      "Epoch 0 completed with loss 4.1085954676071825\n",
      "Epoch 1 completed with loss 2.0559318813184904\n",
      "Epoch 2 completed with loss 1.7655703940739227\n",
      "Epoch 3 completed with loss 1.6171550390621026\n",
      "Epoch 4 completed with loss 1.5265424769371747\n",
      "Epoch 5 completed with loss 1.4613545730710016\n",
      "Epoch 6 completed with loss 1.415565523256857\n",
      "Epoch 7 completed with loss 1.377510252967477\n",
      "Epoch 8 completed with loss 1.3446598580727969\n",
      "Epoch 9 completed with loss 1.3159710122893258\n",
      "Epoch 10 completed with loss 1.2965957620491586\n",
      "Epoch 11 completed with loss 1.2782808275272448\n",
      "Epoch 12 completed with loss 1.2561533215145266\n",
      "Epoch 13 completed with loss 1.246188856909672\n",
      "Epoch 14 completed with loss 1.2296753974631436\n",
      "Epoch 15 completed with loss 1.2190854643781972\n",
      "Epoch 16 completed with loss 1.2086927094186346\n",
      "Epoch 17 completed with loss 1.1985471354176604\n",
      "Epoch 18 completed with loss 1.189437782950699\n",
      "Epoch 19 completed with loss 1.1780388581256076\n",
      "Epoch 20 completed with loss 1.1709568024923402\n",
      "Epoch 21 completed with loss 1.16480294764042\n",
      "Epoch 22 completed with loss 1.1535287444790197\n",
      "Epoch 23 completed with loss 1.1534759463121487\n",
      "Epoch 24 completed with loss 1.141799898445606\n",
      "Epoch 25 completed with loss 1.1372752863913775\n",
      "Epoch 26 completed with loss 1.1344131615012887\n",
      "Epoch 27 completed with loss 1.1252804926286148\n",
      "Epoch 28 completed with loss 1.1275200235346967\n",
      "Epoch 29 completed with loss 1.117009526056548\n",
      "Epoch 30 completed with loss 1.110853440562884\n",
      "Epoch 31 completed with loss 1.1085294833406816\n",
      "Epoch 32 completed with loss 1.1128181062638756\n",
      "Epoch 33 completed with loss 1.102288987735907\n",
      "Epoch 34 completed with loss 1.089330153974394\n",
      "Epoch 35 completed with loss 1.0992019360264138\n",
      "Epoch 36 completed with loss 1.0893416239569593\n",
      "Epoch 37 completed with loss 1.0891828993335373\n",
      "Epoch 38 completed with loss 1.0836796352639806\n",
      "Epoch 39 completed with loss 1.0787183668464417\n",
      "Epoch 40 completed with loss 1.0838583155845603\n",
      "Epoch 41 completed with loss 1.0748596197615057\n",
      "Epoch 42 completed with loss 1.0669934452821825\n",
      "Epoch 43 completed with loss 1.074687011912465\n",
      "Epoch 44 completed with loss 1.0713621195405714\n",
      "Epoch 45 completed with loss 1.0655348540594172\n",
      "Epoch 46 completed with loss 1.0627027988433837\n",
      "Epoch 47 completed with loss 1.0590449424460533\n",
      "Epoch 48 completed with loss 1.0622831734518212\n",
      "Epoch 49 completed with loss 1.0506983127444987\n",
      "Epoch 50 completed with loss 1.0606614542504162\n",
      "Epoch 51 completed with loss 1.0438437285522617\n",
      "Epoch 52 completed with loss 1.050744939222932\n",
      "Epoch 53 completed with loss 1.0495574044063691\n",
      "Epoch 54 completed with loss 1.0498954998329282\n",
      "Epoch 55 completed with loss 1.0389121625572446\n",
      "Epoch 56 completed with loss 1.043288995325566\n",
      "Epoch 57 completed with loss 1.0408489765599374\n",
      "Epoch 58 completed with loss 1.0420837723339604\n",
      "Epoch 59 completed with loss 1.0402404480303327\n",
      "Epoch 60 completed with loss 1.0349742111439508\n",
      "Epoch 61 completed with loss 1.0295897394418712\n",
      "Epoch 62 completed with loss 1.040147845136622\n",
      "Epoch 63 completed with loss 1.028121079256137\n",
      "Epoch 64 completed with loss 1.0288555393616352\n",
      "Epoch 65 completed with loss 1.0269297050312165\n",
      "Epoch 66 completed with loss 1.0272950723146403\n",
      "Epoch 67 completed with loss 1.0226702546700839\n",
      "Epoch 68 completed with loss 1.0278407473117108\n",
      "Epoch 69 completed with loss 1.019792559308311\n",
      "Epoch 70 completed with loss 1.0240409376720585\n",
      "Epoch 71 completed with loss 1.0156797049567108\n",
      "Epoch 72 completed with loss 1.0182579889893535\n",
      "Epoch 73 completed with loss 1.0165619201958178\n",
      "Epoch 74 completed with loss 1.0209004076197745\n",
      "Epoch 75 completed with loss 1.0164717845618727\n",
      "Epoch 76 completed with loss 1.0139718780294056\n",
      "Epoch 77 completed with loss 1.0114335318406424\n",
      "Epoch 78 completed with loss 1.007875779767832\n",
      "Epoch 79 completed with loss 1.0146615672856572\n",
      "Epoch 80 completed with loss 1.008878009455899\n",
      "Epoch 81 completed with loss 1.0042645874122778\n",
      "Epoch 82 completed with loss 1.008069205284119\n",
      "Epoch 83 completed with loss 0.9994729910045861\n",
      "Epoch 84 completed with loss 1.0143124778444568\n",
      "Epoch 85 completed with loss 1.0035843244443337\n",
      "Epoch 86 completed with loss 1.0065582108373445\n",
      "Epoch 87 completed with loss 1.0009035635118682\n",
      "Epoch 88 completed with loss 0.9966933748995263\n",
      "Epoch 89 completed with loss 1.0012456534430387\n",
      "Epoch 90 completed with loss 0.997375547327101\n",
      "Epoch 91 completed with loss 0.9987132358054314\n",
      "Epoch 92 completed with loss 0.9957643877714881\n",
      "Epoch 93 completed with loss 1.0041020438695942\n",
      "Epoch 94 completed with loss 0.9864659812301398\n",
      "Epoch 95 completed with loss 0.9993303762748837\n",
      "Epoch 96 completed with loss 0.9985798455774787\n",
      "Epoch 97 completed with loss 0.9891627480586376\n",
      "Epoch 98 completed with loss 0.9905547179281706\n",
      "Epoch 99 completed with loss 0.992347877162199\n",
      "Epoch 100 completed with loss 0.9877557975550497\n",
      "Epoch 101 completed with loss 0.9904017619167764\n",
      "Epoch 102 completed with loss 0.993186993338168\n",
      "Epoch 103 completed with loss 0.9905270562817655\n",
      "Epoch 104 completed with loss 0.9848742100720603\n",
      "Epoch 105 completed with loss 0.9871215424810846\n",
      "Epoch 106 completed with loss 0.9780522803465528\n",
      "Epoch 107 completed with loss 0.9925439507390055\n",
      "Epoch 108 completed with loss 0.9828032981604337\n",
      "Epoch 109 completed with loss 0.9835411923627063\n",
      "Epoch 110 completed with loss 0.9882302112877371\n",
      "Epoch 111 completed with loss 0.9793063391620913\n",
      "Epoch 112 completed with loss 0.9853553810467321\n",
      "Epoch 113 completed with loss 0.9728185667966811\n",
      "Epoch 114 completed with loss 0.9842508556321259\n",
      "Epoch 115 completed with loss 0.9805216740195947\n",
      "Epoch 116 completed with loss 0.9818970269834006\n",
      "Epoch 117 completed with loss 0.9818744197487826\n",
      "Epoch 118 completed with loss 0.9703120921428007\n",
      "Epoch 119 completed with loss 0.9774101392055543\n",
      "Epoch 120 completed with loss 0.9721076633781204\n",
      "Epoch 121 completed with loss 0.9755219106872878\n",
      "Epoch 122 completed with loss 0.9814986671631536\n",
      "Epoch 123 completed with loss 0.9757501217847068\n",
      "Epoch 124 completed with loss 0.9718908694883188\n",
      "Epoch 125 completed with loss 0.9707364987581967\n",
      "Epoch 126 completed with loss 0.981612630871435\n",
      "Epoch 127 completed with loss 0.9665102668106555\n",
      "Epoch 128 completed with loss 0.9656772116820008\n",
      "Epoch 129 completed with loss 0.9798390654226148\n",
      "Epoch 130 completed with loss 0.9672757937883334\n",
      "Epoch 131 completed with loss 0.9661195144678162\n",
      "Epoch 132 completed with loss 0.9729536085700004\n",
      "Epoch 133 completed with loss 0.9681228665014112\n",
      "Epoch 134 completed with loss 0.9574284726132949\n",
      "Epoch 135 completed with loss 0.9796758520106474\n",
      "Epoch 136 completed with loss 0.9606173580512413\n",
      "Epoch 137 completed with loss 0.9709248179569839\n",
      "Epoch 138 completed with loss 0.9642372724289698\n",
      "Epoch 139 completed with loss 0.9697713648279512\n",
      "Epoch 140 completed with loss 0.9673678442835806\n",
      "Epoch 141 completed with loss 0.963747246811787\n",
      "Epoch 142 completed with loss 0.9656900309026238\n",
      "Epoch 143 completed with loss 0.9678206091125804\n",
      "Epoch 144 completed with loss 0.9637587312608961\n",
      "Epoch 145 completed with loss 0.9563078070059424\n",
      "Epoch 146 completed with loss 0.9564402536178631\n",
      "Epoch 147 completed with loss 0.9668091395248966\n",
      "Epoch 148 completed with loss 0.9627339993293081\n",
      "Epoch 149 completed with loss 0.9570965797950829\n",
      "Epoch 150 completed with loss 0.9615386084963872\n",
      "Epoch 151 completed with loss 0.965117155946791\n",
      "Epoch 152 completed with loss 0.9500841883321601\n",
      "Epoch 153 completed with loss 0.9624959509819746\n",
      "Epoch 154 completed with loss 0.9632938776786126\n",
      "Epoch 155 completed with loss 0.9574091851711268\n",
      "Epoch 156 completed with loss 0.9602011437217396\n",
      "Epoch 157 completed with loss 0.9553298803046355\n",
      "Epoch 158 completed with loss 0.9517516730353234\n",
      "Epoch 159 completed with loss 0.9519713891670109\n",
      "Epoch 160 completed with loss 0.9671032796924315\n",
      "Epoch 161 completed with loss 0.9503006851300602\n",
      "Epoch 162 completed with loss 0.9551754696294675\n",
      "Epoch 163 completed with loss 0.9478360299021009\n",
      "Epoch 164 completed with loss 0.9618048700814447\n",
      "Epoch 165 completed with loss 0.9570531223590173\n",
      "Epoch 166 completed with loss 0.9501385861386853\n",
      "Epoch 167 completed with loss 0.9514909551168482\n",
      "Epoch 168 completed with loss 0.9562805883586409\n",
      "Epoch 169 completed with loss 0.9397303713485596\n"
     ]
    },
    {
     "name": "stdout",
     "output_type": "stream",
     "text": [
      "Epoch 170 completed with loss 0.9583664904658984\n",
      "Epoch 171 completed with loss 0.9516920610641434\n",
      "Epoch 172 completed with loss 0.9520438329006231\n",
      "Epoch 173 completed with loss 0.9472393071278928\n",
      "Epoch 174 completed with loss 0.9539527356624602\n",
      "Epoch 175 completed with loss 0.9492747908458112\n",
      "Epoch 176 completed with loss 0.9515240961685775\n",
      "Epoch 177 completed with loss 0.9482967990140118\n",
      "Epoch 178 completed with loss 0.9439035234972833\n",
      "Epoch 179 completed with loss 0.9438473350058001\n",
      "Epoch 180 completed with loss 0.9503492548440895\n",
      "Epoch 181 completed with loss 0.9435126529385646\n",
      "Epoch 182 completed with loss 0.9651944120104113\n",
      "Epoch 183 completed with loss 0.9352652769535784\n",
      "Epoch 184 completed with loss 0.9442866172641518\n",
      "Epoch 185 completed with loss 0.946979411567251\n",
      "Epoch 186 completed with loss 0.9456958871955671\n",
      "Epoch 187 completed with loss 0.9341009118283782\n",
      "Epoch 188 completed with loss 0.9633155090113481\n",
      "Epoch 189 completed with loss 0.935699624816577\n",
      "Epoch 190 completed with loss 0.9428829711551471\n",
      "Epoch 191 completed with loss 0.9520836516593891\n",
      "Epoch 192 completed with loss 0.9422223137070735\n",
      "Epoch 193 completed with loss 0.9395484396566954\n",
      "Epoch 194 completed with loss 0.9502315955236543\n",
      "Epoch 195 completed with loss 0.9298783589775357\n",
      "Epoch 196 completed with loss 0.9514837793695426\n",
      "Epoch 197 completed with loss 0.9359058054784929\n",
      "Epoch 198 completed with loss 0.9416948561246203\n",
      "Epoch 199 completed with loss 0.9410199417422209\n",
      "Accuracy of test set is 92.47000217437744\n"
     ]
    }
   ],
   "source": [
    "#run session\n",
    "batch_size=120\n",
    "with tf.Session() as sess:\n",
    "    sess.run(tf.global_variables_initializer())\n",
    "    for i in range(200):\n",
    "        avg_loss=0\n",
    "        for j in range(int(total/batch_size)):\n",
    "            x,y=mnist_data.train.next_batch(batch_size=batch_size)\n",
    "        \n",
    "   \n",
    "            _,losses=sess.run([optimizer,cost],feed_dict={image:x,label:y})\n",
    "            avg_loss+=losses/batch_size\n",
    "        print(\"Epoch {} completed with loss {}\".format(i,avg_loss))\n",
    "    \n",
    "    \n",
    "    correct=tf.equal(tf.argmax(activate,1),tf.argmax(label,1))\n",
    "    accuracy=tf.reduce_mean(tf.cast(correct,tf.float32))\n",
    "    re=sess.run(accuracy,feed_dict={image:mnist_data.test.images,label:mnist_data.test.labels})*100\n",
    "    print(\"Accuracy of test set is {}\".format(re))\n",
    "            \n",
    "            \n",
    "        "
   ]
  },
  {
   "cell_type": "code",
   "execution_count": null,
   "metadata": {},
   "outputs": [],
   "source": []
  },
  {
   "cell_type": "code",
   "execution_count": null,
   "metadata": {},
   "outputs": [],
   "source": []
  }
 ],
 "metadata": {
  "kernelspec": {
   "display_name": "Python 3",
   "language": "python",
   "name": "python3"
  },
  "language_info": {
   "codemirror_mode": {
    "name": "ipython",
    "version": 3
   },
   "file_extension": ".py",
   "mimetype": "text/x-python",
   "name": "python",
   "nbconvert_exporter": "python",
   "pygments_lexer": "ipython3",
   "version": "3.6.0"
  }
 },
 "nbformat": 4,
 "nbformat_minor": 2
}
